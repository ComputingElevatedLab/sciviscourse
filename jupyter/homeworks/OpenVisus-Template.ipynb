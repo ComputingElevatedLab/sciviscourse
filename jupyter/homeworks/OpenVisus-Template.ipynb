{
 "cells": [
  {
   "cell_type": "markdown",
   "metadata": {},
   "source": [
    "## OpenVisus Enabled Jupyter Notebook"
   ]
  },
  {
   "cell_type": "markdown",
   "metadata": {},
   "source": [
    "### OpenViSUS: imports and utilities"
   ]
  },
  {
   "cell_type": "code",
   "execution_count": 2,
   "metadata": {},
   "outputs": [
    {
     "name": "stdout",
     "output_type": "stream",
     "text": [
      "Requirement already satisfied: OpenVisus in /Users/steve/opt/anaconda3/lib/python3.7/site-packages (1.3.70)\n",
      "Requirement already satisfied: numpy in /Users/steve/opt/anaconda3/lib/python3.7/site-packages (from OpenVisus) (1.17.2)\n",
      "PythonEngine is working fine\n"
     ]
    }
   ],
   "source": [
    "%matplotlib notebook\n",
    "\n",
    "import os,sys\n",
    "\n",
    "# Here are commands to install a package (OpenVisus) directly from a jupyter notebook\n",
    "# after you install those once you can comment those comment\n",
    "# !{sys.executable} -m pip install OpenVisus\n",
    "\n",
    "import matplotlib.pyplot as plt\n",
    "import numpy as np\n",
    "from ipywidgets import *\n",
    "\n",
    "import OpenVisus as ov\n",
    "\n",
    "# Enable I/O component of OpenVisus\n",
    "ov.DbModule.attach()"
   ]
  },
  {
   "cell_type": "code",
   "execution_count": 3,
   "metadata": {},
   "outputs": [],
   "source": [
    "# function to read data from a remote dataset\n",
    "# optional parameters: timestep, field (variable in the dataset), logic_box (bounding box of the query), resolution\n",
    "\n",
    "# Note: the resolution value could sometime fetch a dataset with the wrong aspect ratio, \n",
    "# this because in the IDX format we double the size at each resolution on only one of the axis at a time\n",
    "\n",
    "def readData(dataset,\n",
    "    time=None,\n",
    "    field=None,\n",
    "    logic_box=ov.BoxNi(),\n",
    "    resolution=None):\n",
    "    \n",
    "    # setting default values if not provided\n",
    "    if(time==None):\n",
    "        time=dataset.getDefaultTime()\n",
    "    if(field==None):\n",
    "        field=dataset.getDefaultField()\n",
    "    if(logic_box==ov.BoxNi()):\n",
    "        logic_box=dataset.getLogicBox()\n",
    "    if(resolution==None):\n",
    "        resolution=dataset.getMaxResolution()\n",
    "    \n",
    "    # create an access mode (default \"network\") to access the data\n",
    "    access=dataset.createAccess()\n",
    "    # define a box query to fetch data from a certain dataset, field and timestep\n",
    "    query=ov.BoxQuery(dataset, field, time,ord('r'))\n",
    "    # set the bounding box for our query\n",
    "    query.logic_box=logic_box\n",
    "    # set the resolution \n",
    "    query.end_resolutions.push_back(resolution)\n",
    "    # prepare and execute the query\n",
    "    dataset.beginQuery(query)\n",
    "    dataset.executeQuery(access,query)\n",
    "\n",
    "    # transform the result of the query to a numpy array\n",
    "    data=ov.Array.toNumPy(query.buffer,bSqueeze=True,bShareMem=False)\n",
    "    \n",
    "    return data\n",
    "\n",
    "# function to plot the image data with matplotlib\n",
    "# optional parameters: colormap, existing plot to reuse (for more interactivity)\n",
    "def showData(data, cmap=None, plot=None):\n",
    "    if(plot==None or cmap!=None):\n",
    "        fig=plt.figure(figsize = (7,5))\n",
    "        plot = plt.imshow(data, origin='lower', cmap=cmap)\n",
    "        plt.show()\n",
    "        return plot\n",
    "    else:\n",
    "        plot.set_data(data)\n",
    "        plt.show()\n",
    "        return plot\n",
    "    "
   ]
  },
  {
   "cell_type": "code",
   "execution_count": null,
   "metadata": {},
   "outputs": [],
   "source": []
  }
 ],
 "metadata": {
  "kernelspec": {
   "display_name": "Python 3",
   "language": "python",
   "name": "python3"
  },
  "language_info": {
   "codemirror_mode": {
    "name": "ipython",
    "version": 3
   },
   "file_extension": ".py",
   "mimetype": "text/x-python",
   "name": "python",
   "nbconvert_exporter": "python",
   "pygments_lexer": "ipython3",
   "version": "3.7.4"
  }
 },
 "nbformat": 4,
 "nbformat_minor": 2
}
