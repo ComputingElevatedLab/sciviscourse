{
 "cells": [
  {
   "cell_type": "markdown",
   "metadata": {},
   "source": [
    "## OpenVisus Enabled Jupyter Notebook"
   ]
  },
  {
   "cell_type": "markdown",
   "metadata": {},
   "source": [
    "### OpenViSUS: imports and utilities"
   ]
  },
  {
   "cell_type": "code",
   "execution_count": 2,
   "metadata": {},
   "outputs": [
    {
     "name": "stdout",
     "output_type": "stream",
     "text": [
      "Requirement already satisfied: OpenVisus in /Users/steve/opt/anaconda3/lib/python3.7/site-packages (1.3.70)\n",
      "Requirement already satisfied: numpy in /Users/steve/opt/anaconda3/lib/python3.7/site-packages (from OpenVisus) (1.17.2)\n",
      "PythonEngine is working fine\n"
     ]
    }
   ],
   "source": [
    "%matplotlib notebook\n",
    "\n",
    "import os,sys\n",
    "\n",
    "import matplotlib.pyplot as plt\n",
    "import numpy as np\n",
    "from ipywidgets import *\n",
    "\n",
    "import OpenVisus as ov\n",
    "\n",
    "# Enable I/O component of OpenVisus\n",
    "ov.DbModule.attach()"
   ]
  },
  {
   "cell_type": "code",
   "execution_count": 3,
   "metadata": {},
   "outputs": [],
   "source": [
    "# function to plot the image data with matplotlib\n",
    "# optional parameters: colormap, existing plot to reuse (for more interactivity)\n",
    "def showData(data, cmap=None, plot=None):\n",
    "    if len(data.shape)==3 and data.shape[0]==1: data=data[0,:,:]\n",
    "    if len(data.shape)==3 and data.shape[1]==1: data=data[:,0,:]   \n",
    "    if len(data.shape)==3 and data.shape[2]==1: data=data[:,:,0]\n",
    "    if(plot==None or cmap!=None):\n",
    "        fig=plt.figure(figsize = (7,5))\n",
    "        plot = plt.imshow(data, origin='lower', cmap=cmap)\n",
    "        plt.show()\n",
    "        return plot\n",
    "    else:\n",
    "        plot.set_data(data)\n",
    "        plt.show()\n",
    "        return plot\n",
    "    "
   ]
  },
  {
   "cell_type": "code",
   "execution_count": null,
   "metadata": {},
   "outputs": [],
   "source": []
  }
 ],
 "metadata": {
  "kernelspec": {
   "display_name": "Python 3",
   "language": "python",
   "name": "python3"
  },
  "language_info": {
   "codemirror_mode": {
    "name": "ipython",
    "version": 3
   },
   "file_extension": ".py",
   "mimetype": "text/x-python",
   "name": "python",
   "nbconvert_exporter": "python",
   "pygments_lexer": "ipython3",
   "version": "3.8.5"
  }
 },
 "nbformat": 4,
 "nbformat_minor": 2
}
