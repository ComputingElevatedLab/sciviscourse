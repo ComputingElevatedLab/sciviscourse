{
 "cells": [
  {
   "cell_type": "markdown",
   "id": "58f259c9",
   "metadata": {},
   "source": [
    "# PyVista tutorial\n",
    "\n",
    "Please make sure your PyVista version is above 0.38.dev0 (0.37 has a bug).\n",
    "\n",
    "To install the latest version, please use:\n",
    "`pip install https://github.com/pyvista/pyvista/archive/main.zip`"
   ]
  },
  {
   "cell_type": "code",
   "execution_count": 1,
   "id": "f4608dab",
   "metadata": {},
   "outputs": [
    {
     "name": "stdout",
     "output_type": "stream",
     "text": [
      "\u001b[33mDEPRECATION: Configuring installation scheme with distutils config files is deprecated and will no longer work in the near future. If you are using a Homebrew or Linuxbrew Python, please see discussion at https://github.com/Homebrew/homebrew-core/issues/76621\u001b[0m\u001b[33m\n",
      "\u001b[0mCollecting https://github.com/pyvista/pyvista/archive/main.zip\n",
      "  Downloading https://github.com/pyvista/pyvista/archive/main.zip\n",
      "\u001b[2K     \u001b[32m/\u001b[0m \u001b[32m102.1 MB\u001b[0m \u001b[31m12.2 MB/s\u001b[0m \u001b[33m0:00:07\u001b[0mm\n",
      "\u001b[?25h  Installing build dependencies ... \u001b[?25ldone\n",
      "\u001b[?25h  Getting requirements to build wheel ... \u001b[?25ldone\n",
      "\u001b[?25h  Installing backend dependencies ... \u001b[?25ldone\n",
      "\u001b[?25h  Preparing metadata (pyproject.toml) ... \u001b[?25ldone\n",
      "\u001b[?25hRequirement already satisfied: vtk in /usr/local/lib/python3.9/site-packages (from pyvista==0.38.dev0) (9.1.0)\n",
      "Requirement already satisfied: pillow in /usr/local/lib/python3.9/site-packages (from pyvista==0.38.dev0) (9.2.0)\n",
      "Requirement already satisfied: scooby>=0.5.1 in /usr/local/lib/python3.9/site-packages (from pyvista==0.38.dev0) (0.5.11)\n",
      "Requirement already satisfied: numpy in /usr/local/lib/python3.9/site-packages (from pyvista==0.38.dev0) (1.23.2)\n",
      "Requirement already satisfied: imageio in /Users/stevepetruzza/Library/Python/3.9/lib/python/site-packages (from pyvista==0.38.dev0) (2.9.0)\n",
      "Requirement already satisfied: pooch in /usr/local/lib/python3.9/site-packages (from pyvista==0.38.dev0) (1.6.0)\n",
      "Requirement already satisfied: appdirs>=1.3.0 in /usr/local/lib/python3.9/site-packages (from pooch->pyvista==0.38.dev0) (1.4.4)\n",
      "Requirement already satisfied: requests>=2.19.0 in /usr/local/lib/python3.9/site-packages (from pooch->pyvista==0.38.dev0) (2.25.1)\n",
      "Requirement already satisfied: packaging>=20.0 in /usr/local/lib/python3.9/site-packages (from pooch->pyvista==0.38.dev0) (20.4)\n",
      "Requirement already satisfied: wslink>=1.0.4 in /usr/local/lib/python3.9/site-packages (from vtk->pyvista==0.38.dev0) (1.1.0)\n",
      "Requirement already satisfied: matplotlib>=2.0.0 in /usr/local/lib/python3.9/site-packages (from vtk->pyvista==0.38.dev0) (3.6.3)\n",
      "Requirement already satisfied: kiwisolver>=1.0.1 in /Users/stevepetruzza/Library/Python/3.9/lib/python/site-packages (from matplotlib>=2.0.0->vtk->pyvista==0.38.dev0) (1.3.1)\n",
      "Requirement already satisfied: contourpy>=1.0.1 in /usr/local/lib/python3.9/site-packages (from matplotlib>=2.0.0->vtk->pyvista==0.38.dev0) (1.0.7)\n",
      "Requirement already satisfied: fonttools>=4.22.0 in /usr/local/lib/python3.9/site-packages (from matplotlib>=2.0.0->vtk->pyvista==0.38.dev0) (4.38.0)\n",
      "Requirement already satisfied: python-dateutil>=2.7 in /usr/local/lib/python3.9/site-packages (from matplotlib>=2.0.0->vtk->pyvista==0.38.dev0) (2.8.2)\n",
      "Requirement already satisfied: cycler>=0.10 in /Users/stevepetruzza/Library/Python/3.9/lib/python/site-packages (from matplotlib>=2.0.0->vtk->pyvista==0.38.dev0) (0.10.0)\n",
      "Requirement already satisfied: pyparsing>=2.2.1 in /Users/stevepetruzza/Library/Python/3.9/lib/python/site-packages (from matplotlib>=2.0.0->vtk->pyvista==0.38.dev0) (2.4.7)\n",
      "Requirement already satisfied: six in /Users/stevepetruzza/Library/Python/3.9/lib/python/site-packages (from packaging>=20.0->pooch->pyvista==0.38.dev0) (1.15.0)\n",
      "Requirement already satisfied: urllib3<1.27,>=1.21.1 in /usr/local/lib/python3.9/site-packages (from requests>=2.19.0->pooch->pyvista==0.38.dev0) (1.26.3)\n",
      "Requirement already satisfied: idna<3,>=2.5 in /usr/local/lib/python3.9/site-packages (from requests>=2.19.0->pooch->pyvista==0.38.dev0) (2.10)\n",
      "Requirement already satisfied: chardet<5,>=3.0.2 in /usr/local/lib/python3.9/site-packages (from requests>=2.19.0->pooch->pyvista==0.38.dev0) (4.0.0)\n",
      "Requirement already satisfied: certifi>=2017.4.17 in /usr/local/lib/python3.9/site-packages (from requests>=2.19.0->pooch->pyvista==0.38.dev0) (2020.12.5)\n",
      "Requirement already satisfied: aiohttp in /usr/local/lib/python3.9/site-packages (from wslink>=1.0.4->vtk->pyvista==0.38.dev0) (3.8.0)\n",
      "Requirement already satisfied: aiosignal>=1.1.2 in /usr/local/lib/python3.9/site-packages (from aiohttp->wslink>=1.0.4->vtk->pyvista==0.38.dev0) (1.2.0)\n",
      "Requirement already satisfied: yarl<2.0,>=1.0 in /usr/local/lib/python3.9/site-packages (from aiohttp->wslink>=1.0.4->vtk->pyvista==0.38.dev0) (1.7.2)\n",
      "Requirement already satisfied: async-timeout<5.0,>=4.0.0a3 in /usr/local/lib/python3.9/site-packages (from aiohttp->wslink>=1.0.4->vtk->pyvista==0.38.dev0) (4.0.0)\n",
      "Requirement already satisfied: frozenlist>=1.1.1 in /usr/local/lib/python3.9/site-packages (from aiohttp->wslink>=1.0.4->vtk->pyvista==0.38.dev0) (1.2.0)\n",
      "Requirement already satisfied: multidict<7.0,>=4.5 in /usr/local/lib/python3.9/site-packages (from aiohttp->wslink>=1.0.4->vtk->pyvista==0.38.dev0) (5.2.0)\n",
      "Requirement already satisfied: attrs>=17.3.0 in /usr/local/lib/python3.9/site-packages (from aiohttp->wslink>=1.0.4->vtk->pyvista==0.38.dev0) (20.3.0)\n",
      "Requirement already satisfied: charset-normalizer<3.0,>=2.0 in /usr/local/lib/python3.9/site-packages (from aiohttp->wslink>=1.0.4->vtk->pyvista==0.38.dev0) (2.0.7)\n",
      "Requirement already satisfied: typing-extensions>=3.6.5 in /usr/local/lib/python3.9/site-packages (from async-timeout<5.0,>=4.0.0a3->aiohttp->wslink>=1.0.4->vtk->pyvista==0.38.dev0) (3.10.0.0)\n",
      "\u001b[33mDEPRECATION: Configuring installation scheme with distutils config files is deprecated and will no longer work in the near future. If you are using a Homebrew or Linuxbrew Python, please see discussion at https://github.com/Homebrew/homebrew-core/issues/76621\u001b[0m\u001b[33m\n",
      "\u001b[0m"
     ]
    }
   ],
   "source": [
    "!pip install https://github.com/pyvista/pyvista/archive/main.zip"
   ]
  },
  {
   "cell_type": "code",
   "execution_count": 16,
   "id": "7ebfbf6b",
   "metadata": {},
   "outputs": [
    {
     "name": "stdout",
     "output_type": "stream",
     "text": [
      "\u001b[33mDEPRECATION: Configuring installation scheme with distutils config files is deprecated and will no longer work in the near future. If you are using a Homebrew or Linuxbrew Python, please see discussion at https://github.com/Homebrew/homebrew-core/issues/76621\u001b[0m\u001b[33m\n",
      "\u001b[0mRequirement already satisfied: matplotlib in /Users/stevepetruzza/Library/Python/3.9/lib/python/site-packages (3.3.4)\n",
      "Collecting matplotlib\n",
      "  Downloading matplotlib-3.6.3-cp39-cp39-macosx_10_12_x86_64.whl (7.3 MB)\n",
      "\u001b[2K     \u001b[90m━━━━━━━━━━━━━━━━━━━━━━━━━━━━━━━━━━━━━━━━\u001b[0m \u001b[32m7.3/7.3 MB\u001b[0m \u001b[31m1.3 MB/s\u001b[0m eta \u001b[36m0:00:00\u001b[0m00:01\u001b[0m00:01\u001b[0m0m\n",
      "\u001b[?25hRequirement already satisfied: packaging>=20.0 in /usr/local/lib/python3.9/site-packages (from matplotlib) (20.4)\n",
      "Collecting fonttools>=4.22.0\n",
      "  Downloading fonttools-4.38.0-py3-none-any.whl (965 kB)\n",
      "\u001b[2K     \u001b[90m━━━━━━━━━━━━━━━━━━━━━━━━━━━━━━━━━━━━━━━\u001b[0m \u001b[32m965.4/965.4 kB\u001b[0m \u001b[31m4.4 MB/s\u001b[0m eta \u001b[36m0:00:00\u001b[0m00:01\u001b[0m00:01\u001b[0m\n",
      "\u001b[?25hRequirement already satisfied: numpy>=1.19 in /usr/local/lib/python3.9/site-packages (from matplotlib) (1.23.2)\n",
      "Requirement already satisfied: pyparsing>=2.2.1 in /Users/stevepetruzza/Library/Python/3.9/lib/python/site-packages (from matplotlib) (2.4.7)\n",
      "Requirement already satisfied: pillow>=6.2.0 in /usr/local/lib/python3.9/site-packages (from matplotlib) (9.2.0)\n",
      "Requirement already satisfied: cycler>=0.10 in /Users/stevepetruzza/Library/Python/3.9/lib/python/site-packages (from matplotlib) (0.10.0)\n",
      "Requirement already satisfied: python-dateutil>=2.7 in /usr/local/lib/python3.9/site-packages (from matplotlib) (2.8.2)\n",
      "Collecting contourpy>=1.0.1\n",
      "  Downloading contourpy-1.0.7-cp39-cp39-macosx_10_9_x86_64.whl (244 kB)\n",
      "\u001b[2K     \u001b[90m━━━━━━━━━━━━━━━━━━━━━━━━━━━━━━━━━━━━━━━\u001b[0m \u001b[32m244.3/244.3 kB\u001b[0m \u001b[31m4.8 MB/s\u001b[0m eta \u001b[36m0:00:00\u001b[0ma \u001b[36m0:00:01\u001b[0m\n",
      "\u001b[?25hRequirement already satisfied: kiwisolver>=1.0.1 in /Users/stevepetruzza/Library/Python/3.9/lib/python/site-packages (from matplotlib) (1.3.1)\n",
      "Requirement already satisfied: six in /Users/stevepetruzza/Library/Python/3.9/lib/python/site-packages (from cycler>=0.10->matplotlib) (1.15.0)\n",
      "Installing collected packages: fonttools, contourpy, matplotlib\n",
      "\u001b[33m  DEPRECATION: Configuring installation scheme with distutils config files is deprecated and will no longer work in the near future. If you are using a Homebrew or Linuxbrew Python, please see discussion at https://github.com/Homebrew/homebrew-core/issues/76621\u001b[0m\u001b[33m\n",
      "\u001b[0m\u001b[33m  DEPRECATION: Configuring installation scheme with distutils config files is deprecated and will no longer work in the near future. If you are using a Homebrew or Linuxbrew Python, please see discussion at https://github.com/Homebrew/homebrew-core/issues/76621\u001b[0m\u001b[33m\n",
      "\u001b[0m  Attempting uninstall: matplotlib\n",
      "    Found existing installation: matplotlib 3.3.4\n",
      "    Uninstalling matplotlib-3.3.4:\n",
      "      Successfully uninstalled matplotlib-3.3.4\n",
      "\u001b[33m  DEPRECATION: Configuring installation scheme with distutils config files is deprecated and will no longer work in the near future. If you are using a Homebrew or Linuxbrew Python, please see discussion at https://github.com/Homebrew/homebrew-core/issues/76621\u001b[0m\u001b[33m\n",
      "\u001b[0m\u001b[33mDEPRECATION: Configuring installation scheme with distutils config files is deprecated and will no longer work in the near future. If you are using a Homebrew or Linuxbrew Python, please see discussion at https://github.com/Homebrew/homebrew-core/issues/76621\u001b[0m\u001b[33m\n",
      "\u001b[0mSuccessfully installed contourpy-1.0.7 fonttools-4.38.0 matplotlib-3.6.3\n"
     ]
    }
   ],
   "source": [
    "!pip install --upgrade matplotlib"
   ]
  },
  {
   "cell_type": "code",
   "execution_count": 1,
   "id": "1170a780",
   "metadata": {},
   "outputs": [],
   "source": [
    "import vtk\n",
    "import pyvista as pv\n",
    "import numpy as np\n",
    "\n",
    "from matplotlib.colors import ListedColormap, BoundaryNorm\n"
   ]
  },
  {
   "cell_type": "markdown",
   "id": "9656ce4a",
   "metadata": {},
   "source": [
    "## Render a cube"
   ]
  },
  {
   "cell_type": "code",
   "execution_count": 2,
   "id": "4cd01634",
   "metadata": {
    "scrolled": false
   },
   "outputs": [
    {
     "data": {
      "application/vnd.jupyter.widget-view+json": {
       "model_id": "6d8292bb85a0483d8ff9fdb2c1527b7e",
       "version_major": 2,
       "version_minor": 0
      },
      "text/plain": [
       "ViewInteractiveWidget(height=768, layout=Layout(height='auto', width='100%'), width=1024)"
      ]
     },
     "metadata": {},
     "output_type": "display_data"
    }
   ],
   "source": [
    "mesh = pv.Cube(center=[0.0, 0.0, 0.0],\n",
    "          x_length=1.0,\n",
    "          y_length=2.0,\n",
    "          z_length=1.0)\n",
    "mesh.plot(background=\"#000000\", show_edges=True, line_width=3, color=\"red\")"
   ]
  },
  {
   "cell_type": "markdown",
   "id": "dad7d2bf",
   "metadata": {},
   "source": [
    "## Basics: points, cells, lines"
   ]
  },
  {
   "cell_type": "code",
   "execution_count": 3,
   "id": "47985943",
   "metadata": {
    "scrolled": true
   },
   "outputs": [
    {
     "data": {
      "text/plain": [
       "array([[ 0.,  0.,  0.],\n",
       "       [ 0.,  1.,  0.],\n",
       "       [ 1.,  0.,  0.],\n",
       "       [ 1.,  2.,  1.],\n",
       "       [ 2.,  0.,  0.],\n",
       "       [ 2.,  2., -1.],\n",
       "       [ 3.,  0.,  0.],\n",
       "       [ 3.,  1.,  0.]])"
      ]
     },
     "execution_count": 3,
     "metadata": {},
     "output_type": "execute_result"
    }
   ],
   "source": [
    "np_points = np.array([[0.0, 0.0, 0.0], \n",
    "                      [0.0, 1.0, 0.0],\n",
    "                      [1.0, 0.0, 0.0],\n",
    "                      [1.0, 2.0, 1.0],\n",
    "                      [2.0, 0.0, 0.0],\n",
    "                      [2.0, 2.0, -1.0],\n",
    "                      [3.0, 0.0, 0.0],\n",
    "                      [3.0, 1.0, 0.0]])\n",
    "\n",
    "np_points"
   ]
  },
  {
   "cell_type": "code",
   "execution_count": 4,
   "id": "60c99cbe",
   "metadata": {
    "scrolled": true
   },
   "outputs": [
    {
     "data": {
      "application/vnd.jupyter.widget-view+json": {
       "model_id": "8db854e3146e46c89356584843e73b92",
       "version_major": 2,
       "version_minor": 0
      },
      "text/plain": [
       "ViewInteractiveWidget(height=768, layout=Layout(height='auto', width='100%'), width=1024)"
      ]
     },
     "metadata": {},
     "output_type": "display_data"
    }
   ],
   "source": [
    "mesh = pv.PolyData(np_points)\n",
    "mesh.plot(show_bounds=True, cpos='xy', point_size=15)"
   ]
  },
  {
   "cell_type": "code",
   "execution_count": 5,
   "id": "d084bce2",
   "metadata": {},
   "outputs": [
    {
     "data": {
      "application/vnd.jupyter.widget-view+json": {
       "model_id": "94c1b94fd54b45b3bfd2e9dddaf5f72c",
       "version_major": 2,
       "version_minor": 0
      },
      "text/plain": [
       "ViewInteractiveWidget(height=768, layout=Layout(height='auto', width='100%'), width=1024)"
      ]
     },
     "metadata": {},
     "output_type": "display_data"
    }
   ],
   "source": [
    "cells = [8] + [x for x in range(8)]\n",
    "mesh = pv.PolyData(np_points, cells)\n",
    "mesh.plot(color=\"#61B229\", cpos='xy', show_edges=True)"
   ]
  },
  {
   "cell_type": "code",
   "execution_count": 6,
   "id": "70b01d08",
   "metadata": {},
   "outputs": [
    {
     "data": {
      "text/plain": [
       "[8, 0, 1, 2, 3, 4, 5, 6, 7]"
      ]
     },
     "execution_count": 6,
     "metadata": {},
     "output_type": "execute_result"
    }
   ],
   "source": [
    "cells"
   ]
  },
  {
   "cell_type": "code",
   "execution_count": 7,
   "id": "27450c32",
   "metadata": {
    "scrolled": true
   },
   "outputs": [
    {
     "data": {
      "application/vnd.jupyter.widget-view+json": {
       "model_id": "3f6b9c3526534c79ac2d5117151bbd13",
       "version_major": 2,
       "version_minor": 0
      },
      "text/plain": [
       "ViewInteractiveWidget(height=768, layout=Layout(height='auto', width='100%'), width=1024)"
      ]
     },
     "metadata": {},
     "output_type": "display_data"
    }
   ],
   "source": [
    "poly_line = pv.MultipleLines(points=np_points)\n",
    "poly_line.plot(color=\"#61B229\", cpos='xy', line_width=5)"
   ]
  },
  {
   "cell_type": "code",
   "execution_count": 8,
   "id": "698611d8",
   "metadata": {
    "scrolled": true
   },
   "outputs": [
    {
     "data": {
      "application/vnd.jupyter.widget-view+json": {
       "model_id": "2107eadea5ca4827b3bbe80769bf36d0",
       "version_major": 2,
       "version_minor": 0
      },
      "text/plain": [
       "ViewInteractiveWidget(height=768, layout=Layout(height='auto', width='100%'), width=1024)"
      ]
     },
     "metadata": {},
     "output_type": "display_data"
    }
   ],
   "source": [
    "ball = pv.Sphere(radius=0.05, theta_resolution=35, phi_resolution=35)\n",
    "ball.plot()"
   ]
  },
  {
   "cell_type": "code",
   "execution_count": 9,
   "id": "201b9013",
   "metadata": {},
   "outputs": [
    {
     "data": {
      "application/vnd.jupyter.widget-view+json": {
       "model_id": "e1631b60666549ceae0ef28bad4d0b9e",
       "version_major": 2,
       "version_minor": 0
      },
      "text/plain": [
       "ViewInteractiveWidget(height=768, layout=Layout(height='auto', width='100%'), width=1024)"
      ]
     },
     "metadata": {},
     "output_type": "display_data"
    }
   ],
   "source": [
    "pl = pv.Plotter()\n",
    "\n",
    "actor = pl.add_mesh(poly_line, color=\"#61B229\", line_width=5)\n",
    "\n",
    "balls = poly_line.glyph(geom=ball, orient=False)\n",
    "actor = pl.add_mesh(balls, color=\"#CC6666\")\n",
    "\n",
    "pl.show(cpos=\"xy\")"
   ]
  },
  {
   "cell_type": "code",
   "execution_count": 10,
   "id": "46e92dae",
   "metadata": {},
   "outputs": [
    {
     "data": {
      "text/html": [
       "<table><tr><th>Header</th><th>Data Arrays</th></tr><tr><td>\n",
       "<table>\n",
       "<tr><th>PolyData</th><th>Information</th></tr>\n",
       "<tr><td>N Cells</td><td>1</td></tr>\n",
       "<tr><td>N Points</td><td>8</td></tr>\n",
       "<tr><td>N Strips</td><td>0</td></tr>\n",
       "<tr><td>X Bounds</td><td>0.000e+00, 3.000e+00</td></tr>\n",
       "<tr><td>Y Bounds</td><td>0.000e+00, 2.000e+00</td></tr>\n",
       "<tr><td>Z Bounds</td><td>-1.000e+00, 1.000e+00</td></tr>\n",
       "<tr><td>N Arrays</td><td>2</td></tr>\n",
       "</table>\n",
       "\n",
       "</td><td>\n",
       "<table>\n",
       "<tr><th>Name</th><th>Field</th><th>Type</th><th>N Comp</th><th>Min</th><th>Max</th></tr>\n",
       "<tr><td>Texture Coordinates</td><td>Points</td><td>float32</td><td>2</td><td>0.000e+00</td><td>1.000e+00</td></tr>\n",
       "<tr><td><b>my_array</b></td><td>Points</td><td>int64</td><td>1</td><td>0.000e+00</td><td>7.000e+00</td></tr>\n",
       "</table>\n",
       "\n",
       "</td></tr> </table>"
      ],
      "text/plain": [
       "PolyData (0x141c978e0)\n",
       "  N Cells:    1\n",
       "  N Points:   8\n",
       "  N Strips:   0\n",
       "  X Bounds:   0.000e+00, 3.000e+00\n",
       "  Y Bounds:   0.000e+00, 2.000e+00\n",
       "  Z Bounds:   -1.000e+00, 1.000e+00\n",
       "  N Arrays:   2"
      ]
     },
     "execution_count": 10,
     "metadata": {},
     "output_type": "execute_result"
    }
   ],
   "source": [
    "poly_line_with_data = pv.MultipleLines(points=np_points)\n",
    "poly_line_with_data.point_data[\"my_array\"] = np.arange(mesh.n_points)\n",
    "poly_line_with_data"
   ]
  },
  {
   "cell_type": "code",
   "execution_count": 11,
   "id": "a1166bc4",
   "metadata": {
    "scrolled": true
   },
   "outputs": [
    {
     "data": {
      "text/plain": [
       "pyvista_ndarray([0, 1, 2, 3, 4, 5, 6, 7])"
      ]
     },
     "execution_count": 11,
     "metadata": {},
     "output_type": "execute_result"
    }
   ],
   "source": [
    "poly_line_with_data.point_data['my_array']"
   ]
  },
  {
   "cell_type": "code",
   "execution_count": 12,
   "id": "2a5a7064",
   "metadata": {},
   "outputs": [
    {
     "data": {
      "application/vnd.jupyter.widget-view+json": {
       "model_id": "22548e564eb94bcf8c3fc087f801b88b",
       "version_major": 2,
       "version_minor": 0
      },
      "text/plain": [
       "ViewInteractiveWidget(height=230, layout=Layout(height='auto', width='100%'), width=800)"
      ]
     },
     "metadata": {},
     "output_type": "display_data"
    }
   ],
   "source": [
    "lut = pv.LookupTable(cmap='magma')\n",
    "lut.scalar_range = (0, 7)\n",
    "lut.below_range_color = pv.Color('grey', opacity=0.5)\n",
    "lut.above_range_color = 'r'\n",
    "lut.plot()"
   ]
  },
  {
   "cell_type": "code",
   "execution_count": 13,
   "id": "2dfab949",
   "metadata": {
    "scrolled": true
   },
   "outputs": [
    {
     "data": {
      "application/vnd.jupyter.widget-view+json": {
       "model_id": "55f145d9b0174e3683049187e08af738",
       "version_major": 2,
       "version_minor": 0
      },
      "text/plain": [
       "ViewInteractiveWidget(height=768, layout=Layout(height='auto', width='100%'), width=1024)"
      ]
     },
     "metadata": {},
     "output_type": "display_data"
    }
   ],
   "source": [
    "pl = pv.Plotter()\n",
    "\n",
    "actor = pl.add_mesh(poly_line_with_data, color=\"#61B229\", line_width=5)\n",
    "\n",
    "balls = poly_line_with_data.glyph(geom=ball, orient=False, scale=False)\n",
    "actor = pl.add_mesh(balls, cmap=lut)\n",
    "\n",
    "pl.show(cpos=\"xy\")"
   ]
  },
  {
   "cell_type": "code",
   "execution_count": 14,
   "id": "06d5a08e",
   "metadata": {},
   "outputs": [],
   "source": [
    "c1 = np.array([0.99, 0.0, 0.0])\n",
    "c2 = np.array([0.0, 0.99, 0.0])\n",
    "c3 = np.array([0.0, 0.0, 0.99])\n",
    "c4 = np.array([0.99, 0.99, 0.0])\n",
    "c5 = np.array([0.99, 0.0, 0.99])\n",
    "c6 = np.array([0.0, 0.99, 0.99])\n",
    "c7 = np.array([0.5, 0.7, 0.99])\n",
    "c8 = np.array([0.9, 0.5, 0.8])\n",
    "colors = [c1, c2, c3, c4, c5, c6, c7, c8]\n",
    "\n",
    "critical_values = sorted(set(poly_line_with_data.point_data[\"my_array\"]))\n",
    "num_steps = int((critical_values[-1] - critical_values[0]) * 100)\n",
    "mapping = np.linspace(critical_values[0], critical_values[-1], num_steps)\n",
    "newcolors = np.empty((num_steps, 3))\n",
    "color_index = 1\n",
    "for i in range(len(critical_values) - 2, -1, -1):\n",
    "    mid = (critical_values[i] + critical_values[i + 1]) / 2\n",
    "    newcolors[mapping <= mid] = colors[color_index]\n",
    "    color_index += 1\n",
    "newcolors[mapping > (critical_values[len(critical_values) - 2] + critical_values[len(critical_values) - 1]) / 2] = colors[0]\n",
    "my_colormap = ListedColormap(newcolors)"
   ]
  },
  {
   "cell_type": "code",
   "execution_count": 15,
   "id": "372b28bb",
   "metadata": {},
   "outputs": [
    {
     "data": {
      "application/vnd.jupyter.widget-view+json": {
       "model_id": "fd6b4dcb0f5345c3b97ace564516c3da",
       "version_major": 2,
       "version_minor": 0
      },
      "text/plain": [
       "ViewInteractiveWidget(height=768, layout=Layout(height='auto', width='100%'), width=1024)"
      ]
     },
     "metadata": {},
     "output_type": "display_data"
    }
   ],
   "source": [
    "pl = pv.Plotter()\n",
    "\n",
    "actor = pl.add_mesh(poly_line_with_data, color=\"#61B229\", line_width=5)\n",
    "\n",
    "balls = poly_line_with_data.glyph(geom=ball, orient=False, scale=False)\n",
    "actor = pl.add_mesh(balls, cmap=my_colormap)\n",
    "\n",
    "pl.show(cpos=\"xy\")"
   ]
  },
  {
   "cell_type": "markdown",
   "id": "127354da",
   "metadata": {},
   "source": [
    "## Using a data source"
   ]
  },
  {
   "cell_type": "code",
   "execution_count": 16,
   "id": "3406ac3a",
   "metadata": {},
   "outputs": [],
   "source": [
    "from ReadPoints_pyvista import *"
   ]
  },
  {
   "cell_type": "code",
   "execution_count": 17,
   "id": "90b606a8",
   "metadata": {},
   "outputs": [
    {
     "data": {
      "text/html": [
       "\n",
       "<table>\n",
       "<tr><th>UnstructuredGrid</th><th>Information</th></tr>\n",
       "<tr><td>N Cells</td><td>0</td></tr>\n",
       "<tr><td>N Points</td><td>16</td></tr>\n",
       "<tr><td>X Bounds</td><td>-5.053e-01, 6.744e-01</td></tr>\n",
       "<tr><td>Y Bounds</td><td>1.113e-01, 8.944e-01</td></tr>\n",
       "<tr><td>Z Bounds</td><td>0.000e+00, 8.515e-01</td></tr>\n",
       "<tr><td>N Arrays</td><td>0</td></tr>\n",
       "</table>\n",
       "\n"
      ],
      "text/plain": [
       "UnstructuredGrid (0x141e6a460)\n",
       "  N Cells:    0\n",
       "  N Points:   16\n",
       "  X Bounds:   -5.053e-01, 6.744e-01\n",
       "  Y Bounds:   1.113e-01, 8.944e-01\n",
       "  Z Bounds:   0.000e+00, 8.515e-01\n",
       "  N Arrays:   0"
      ]
     },
     "execution_count": 17,
     "metadata": {},
     "output_type": "execute_result"
    }
   ],
   "source": [
    "data = pv.UnstructuredGrid()\n",
    "data.points = readPoints(\"Data1.txt\")\n",
    "data"
   ]
  },
  {
   "cell_type": "code",
   "execution_count": 18,
   "id": "d146c59e",
   "metadata": {},
   "outputs": [
    {
     "data": {
      "text/plain": [
       "pyvista DataSetAttributes\n",
       "Association     : POINT\n",
       "Active Scalars  : my_vectors\n",
       "Active Vectors  : None\n",
       "Active Texture  : None\n",
       "Active Normals  : None\n",
       "Contains arrays :\n",
       "    my_vectors              float64    (16, 3)              SCALARS"
      ]
     },
     "execution_count": 18,
     "metadata": {},
     "output_type": "execute_result"
    }
   ],
   "source": [
    "vectors = readVectors(\"Data2.txt\")\n",
    "data.point_data[\"my_vectors\"] = vectors\n",
    "data.point_data"
   ]
  },
  {
   "cell_type": "code",
   "execution_count": 19,
   "id": "6bc3d78f",
   "metadata": {},
   "outputs": [
    {
     "data": {
      "text/html": [
       "<table><tr><th>Header</th><th>Data Arrays</th></tr><tr><td>\n",
       "<table>\n",
       "<tr><th>UnstructuredGrid</th><th>Information</th></tr>\n",
       "<tr><td>N Cells</td><td>0</td></tr>\n",
       "<tr><td>N Points</td><td>16</td></tr>\n",
       "<tr><td>X Bounds</td><td>-5.053e-01, 6.744e-01</td></tr>\n",
       "<tr><td>Y Bounds</td><td>1.113e-01, 8.944e-01</td></tr>\n",
       "<tr><td>Z Bounds</td><td>0.000e+00, 8.515e-01</td></tr>\n",
       "<tr><td>N Arrays</td><td>1</td></tr>\n",
       "</table>\n",
       "\n",
       "</td><td>\n",
       "<table>\n",
       "<tr><th>Name</th><th>Field</th><th>Type</th><th>N Comp</th><th>Min</th><th>Max</th></tr>\n",
       "<tr><td><b>my_vectors</b></td><td>Points</td><td>float64</td><td>3</td><td>-7.071e-01</td><td>9.345e-01</td></tr>\n",
       "</table>\n",
       "\n",
       "</td></tr> </table>"
      ],
      "text/plain": [
       "UnstructuredGrid (0x141e6a460)\n",
       "  N Cells:    0\n",
       "  N Points:   16\n",
       "  X Bounds:   -5.053e-01, 6.744e-01\n",
       "  Y Bounds:   1.113e-01, 8.944e-01\n",
       "  Z Bounds:   0.000e+00, 8.515e-01\n",
       "  N Arrays:   1"
      ]
     },
     "execution_count": 19,
     "metadata": {},
     "output_type": "execute_result"
    }
   ],
   "source": [
    "data"
   ]
  },
  {
   "cell_type": "code",
   "execution_count": 20,
   "id": "b4146d8a",
   "metadata": {},
   "outputs": [
    {
     "data": {
      "application/vnd.jupyter.widget-view+json": {
       "model_id": "0c333c50b12d45ea81304eca3964a6a2",
       "version_major": 2,
       "version_minor": 0
      },
      "text/plain": [
       "ViewInteractiveWidget(height=768, layout=Layout(height='auto', width='100%'), width=1024)"
      ]
     },
     "metadata": {},
     "output_type": "display_data"
    }
   ],
   "source": [
    "ball = pv.Sphere(radius=0.05, theta_resolution=35, phi_resolution=35)\n",
    "\n",
    "pl = pv.Plotter()\n",
    "pl.set_background(\"#666699\")\n",
    "\n",
    "actor = pl.add_mesh(data, color=\"#61B229\")\n",
    "\n",
    "balls = data.glyph(geom=ball, orient=False)\n",
    "actor = pl.add_mesh(balls, color=\"#CC6666\")\n",
    "\n",
    "pl.show(cpos=\"xy\")"
   ]
  },
  {
   "cell_type": "code",
   "execution_count": 21,
   "id": "d015d2b1",
   "metadata": {},
   "outputs": [
    {
     "data": {
      "application/vnd.jupyter.widget-view+json": {
       "model_id": "6c0d0271020646c482d51b53208dbd8b",
       "version_major": 2,
       "version_minor": 0
      },
      "text/plain": [
       "ViewInteractiveWidget(height=768, layout=Layout(height='auto', width='100%'), width=1024)"
      ]
     },
     "metadata": {},
     "output_type": "display_data"
    }
   ],
   "source": [
    "arrow = pv.Arrow(tip_radius=0.2, shaft_radius=0.075, scale=0.2)\n",
    "\n",
    "pl = pv.Plotter()\n",
    "pl.set_background(\"#666699\")\n",
    "\n",
    "actor = pl.add_mesh(data, color=\"#61B229\")\n",
    "\n",
    "balls = data.glyph(geom=ball, orient=False)\n",
    "actor = pl.add_mesh(balls, color=\"#CC6666\")\n",
    "\n",
    "arrows = data.glyph(geom=arrow, orient=\"my_vectors\", scale=False)\n",
    "actor = pl.add_mesh(arrows, color=\"#D3CE0C\")\n",
    "\n",
    "pl.show(cpos=\"xy\")\n"
   ]
  },
  {
   "cell_type": "code",
   "execution_count": 22,
   "id": "70a96cc2",
   "metadata": {
    "scrolled": false
   },
   "outputs": [
    {
     "data": {
      "text/html": [
       "<table><tr><th>Header</th><th>Data Arrays</th></tr><tr><td>\n",
       "<table>\n",
       "<tr><th>UnstructuredGrid</th><th>Information</th></tr>\n",
       "<tr><td>N Cells</td><td>0</td></tr>\n",
       "<tr><td>N Points</td><td>16</td></tr>\n",
       "<tr><td>X Bounds</td><td>-5.053e-01, 6.744e-01</td></tr>\n",
       "<tr><td>Y Bounds</td><td>1.113e-01, 8.944e-01</td></tr>\n",
       "<tr><td>Z Bounds</td><td>0.000e+00, 8.515e-01</td></tr>\n",
       "<tr><td>N Arrays</td><td>1</td></tr>\n",
       "</table>\n",
       "\n",
       "</td><td>\n",
       "<table>\n",
       "<tr><th>Name</th><th>Field</th><th>Type</th><th>N Comp</th><th>Min</th><th>Max</th></tr>\n",
       "<tr><td><b>my_vectors</b></td><td>Points</td><td>float64</td><td>3</td><td>-7.071e-01</td><td>9.345e-01</td></tr>\n",
       "</table>\n",
       "\n",
       "</td></tr> </table>"
      ],
      "text/plain": [
       "UnstructuredGrid (0x141e6a460)\n",
       "  N Cells:    0\n",
       "  N Points:   16\n",
       "  X Bounds:   -5.053e-01, 6.744e-01\n",
       "  Y Bounds:   1.113e-01, 8.944e-01\n",
       "  Z Bounds:   0.000e+00, 8.515e-01\n",
       "  N Arrays:   1"
      ]
     },
     "execution_count": 22,
     "metadata": {},
     "output_type": "execute_result"
    }
   ],
   "source": [
    "data"
   ]
  },
  {
   "cell_type": "code",
   "execution_count": 23,
   "id": "3aaa094b",
   "metadata": {},
   "outputs": [
    {
     "data": {
      "text/plain": [
       "(-0.8267, 0.8935)"
      ]
     },
     "execution_count": 23,
     "metadata": {},
     "output_type": "execute_result"
    }
   ],
   "source": [
    "scalars = readScalars(\"Data3.txt\")\n",
    "data.point_data[\"my_scalars\"] = scalars\n",
    "data.point_data\n",
    "data.point_data[\"my_scalars\"].GetRange()"
   ]
  },
  {
   "cell_type": "code",
   "execution_count": 24,
   "id": "a6123d45",
   "metadata": {},
   "outputs": [
    {
     "data": {
      "application/vnd.jupyter.widget-view+json": {
       "model_id": "ca08c1444a544af386ee5d91536bc1a9",
       "version_major": 2,
       "version_minor": 0
      },
      "text/plain": [
       "ViewInteractiveWidget(height=230, layout=Layout(height='auto', width='100%'), width=800)"
      ]
     },
     "metadata": {},
     "output_type": "display_data"
    }
   ],
   "source": [
    "lut = pv.LookupTable()\n",
    "lut.values = [\n",
    "    [0, 0, 255, 255], \n",
    "    [0, 255, 255, 255], \n",
    "    [0, 255, 0, 255], \n",
    "    [255, 255, 0, 255], \n",
    "    [255, 0, 0, 255], \n",
    "    [255, 0, 255, 255]\n",
    "]\n",
    "lut.plot()"
   ]
  },
  {
   "cell_type": "code",
   "execution_count": 25,
   "id": "15217185",
   "metadata": {},
   "outputs": [
    {
     "data": {
      "application/vnd.jupyter.widget-view+json": {
       "model_id": "5cf26c5b442244789cd593c349fa21ff",
       "version_major": 2,
       "version_minor": 0
      },
      "text/plain": [
       "ViewInteractiveWidget(height=768, layout=Layout(height='auto', width='100%'), width=1024)"
      ]
     },
     "metadata": {},
     "output_type": "display_data"
    }
   ],
   "source": [
    "pl = pv.Plotter()\n",
    "pl.set_background(\"#666699\")\n",
    "\n",
    "actor = pl.add_mesh(data, color=\"#61B229\")\n",
    "\n",
    "balls = data.glyph(geom=ball, orient=False, scale=\"my_scalars\")\n",
    "actor = pl.add_mesh(balls, cmap=lut)\n",
    "\n",
    "arrows = data.glyph(geom=arrow, orient=\"my_vectors\", scale=\"my_scalars\")\n",
    "actor = pl.add_mesh(arrows, cmap=lut)\n",
    "\n",
    "pl.show(cpos=\"xy\")"
   ]
  },
  {
   "cell_type": "markdown",
   "id": "fcae521d",
   "metadata": {},
   "source": [
    "## Working with a volume"
   ]
  },
  {
   "cell_type": "code",
   "execution_count": 26,
   "id": "3543459f",
   "metadata": {},
   "outputs": [
    {
     "name": "stdout",
     "output_type": "stream",
     "text": [
      "Reading volume dataset from hydrogen.vtk ...\n",
      "Done!\n"
     ]
    }
   ],
   "source": [
    "filename = \"hydrogen.vtk\"\n",
    "\n",
    "print(\"Reading volume dataset from \" + filename + \" ...\")\n",
    "data = pv.read(filename)  \n",
    "print(\"Done!\")"
   ]
  },
  {
   "cell_type": "code",
   "execution_count": 27,
   "id": "ab61c610",
   "metadata": {
    "scrolled": false
   },
   "outputs": [
    {
     "data": {
      "text/html": [
       "<table><tr><th>Header</th><th>Data Arrays</th></tr><tr><td>\n",
       "<table>\n",
       "<tr><th>UniformGrid</th><th>Information</th></tr>\n",
       "<tr><td>N Cells</td><td>250047</td></tr>\n",
       "<tr><td>N Points</td><td>262144</td></tr>\n",
       "<tr><td>X Bounds</td><td>0.000e+00, 6.300e+01</td></tr>\n",
       "<tr><td>Y Bounds</td><td>0.000e+00, 6.300e+01</td></tr>\n",
       "<tr><td>Z Bounds</td><td>0.000e+00, 6.300e+01</td></tr>\n",
       "<tr><td>Dimensions</td><td>64, 64, 64</td></tr>\n",
       "<tr><td>Spacing</td><td>1.000e+00, 1.000e+00, 1.000e+00</td></tr>\n",
       "<tr><td>N Arrays</td><td>1</td></tr>\n",
       "</table>\n",
       "\n",
       "</td><td>\n",
       "<table>\n",
       "<tr><th>Name</th><th>Field</th><th>Type</th><th>N Comp</th><th>Min</th><th>Max</th></tr>\n",
       "<tr><td><b>probability_density</b></td><td>Points</td><td>float32</td><td>1</td><td>0.000e+00</td><td>1.000e+00</td></tr>\n",
       "</table>\n",
       "\n",
       "</td></tr> </table>"
      ],
      "text/plain": [
       "UniformGrid (0x14ae9a580)\n",
       "  N Cells:      250047\n",
       "  N Points:     262144\n",
       "  X Bounds:     0.000e+00, 6.300e+01\n",
       "  Y Bounds:     0.000e+00, 6.300e+01\n",
       "  Z Bounds:     0.000e+00, 6.300e+01\n",
       "  Dimensions:   64, 64, 64\n",
       "  Spacing:      1.000e+00, 1.000e+00, 1.000e+00\n",
       "  N Arrays:     1"
      ]
     },
     "execution_count": 27,
     "metadata": {},
     "output_type": "execute_result"
    }
   ],
   "source": [
    "data"
   ]
  },
  {
   "cell_type": "code",
   "execution_count": 28,
   "id": "6a187079",
   "metadata": {},
   "outputs": [
    {
     "name": "stdout",
     "output_type": "stream",
     "text": [
      "Dimensions: 64 64 64\n"
     ]
    }
   ],
   "source": [
    "width, height, depth = data.dimensions\n",
    "print(\"Dimensions: %i %i %i\" % (width, height, depth))"
   ]
  },
  {
   "cell_type": "code",
   "execution_count": 29,
   "id": "5b8f33f7",
   "metadata": {
    "scrolled": true
   },
   "outputs": [
    {
     "data": {
      "application/vnd.jupyter.widget-view+json": {
       "model_id": "140fd752e5f247edb8beb4a9f1af172b",
       "version_major": 2,
       "version_minor": 0
      },
      "text/plain": [
       "ViewInteractiveWidget(height=768, layout=Layout(height='auto', width='100%'), width=1024)"
      ]
     },
     "metadata": {},
     "output_type": "display_data"
    }
   ],
   "source": [
    "outline = data.outline()\n",
    "pv.plot(outline, line_width=5, color=\"#CCCCCC\", background=\"#333333\", cpos=\"xy\")"
   ]
  },
  {
   "cell_type": "code",
   "execution_count": 30,
   "id": "c13feeb1",
   "metadata": {},
   "outputs": [
    {
     "name": "stdout",
     "output_type": "stream",
     "text": [
      "Range of image: 0--1\n"
     ]
    }
   ],
   "source": [
    "a,b = data.GetScalarRange()\n",
    "print(\"Range of image: %d--%d\" %(a,b))"
   ]
  },
  {
   "cell_type": "code",
   "execution_count": 31,
   "id": "31978774",
   "metadata": {},
   "outputs": [
    {
     "name": "stdout",
     "output_type": "stream",
     "text": [
      "initial shape (262144,)\n",
      "reshaped (64, 64, 64)\n"
     ]
    }
   ],
   "source": [
    "rows, cols, _ = data.GetDimensions()\n",
    "# print(rows, cols)\n",
    "\n",
    "a = data.point_data.active_scalars\n",
    "print(\"initial shape\", a.shape)\n",
    "a = a.reshape(rows, cols, -1)\n",
    "print(\"reshaped\", a.shape)"
   ]
  },
  {
   "cell_type": "code",
   "execution_count": 32,
   "id": "ad301ebd",
   "metadata": {
    "scrolled": false
   },
   "outputs": [
    {
     "data": {
      "application/javascript": [
       "/* Put everything inside the global mpl namespace */\n",
       "/* global mpl */\n",
       "window.mpl = {};\n",
       "\n",
       "mpl.get_websocket_type = function () {\n",
       "    if (typeof WebSocket !== 'undefined') {\n",
       "        return WebSocket;\n",
       "    } else if (typeof MozWebSocket !== 'undefined') {\n",
       "        return MozWebSocket;\n",
       "    } else {\n",
       "        alert(\n",
       "            'Your browser does not have WebSocket support. ' +\n",
       "                'Please try Chrome, Safari or Firefox ≥ 6. ' +\n",
       "                'Firefox 4 and 5 are also supported but you ' +\n",
       "                'have to enable WebSockets in about:config.'\n",
       "        );\n",
       "    }\n",
       "};\n",
       "\n",
       "mpl.figure = function (figure_id, websocket, ondownload, parent_element) {\n",
       "    this.id = figure_id;\n",
       "\n",
       "    this.ws = websocket;\n",
       "\n",
       "    this.supports_binary = this.ws.binaryType !== undefined;\n",
       "\n",
       "    if (!this.supports_binary) {\n",
       "        var warnings = document.getElementById('mpl-warnings');\n",
       "        if (warnings) {\n",
       "            warnings.style.display = 'block';\n",
       "            warnings.textContent =\n",
       "                'This browser does not support binary websocket messages. ' +\n",
       "                'Performance may be slow.';\n",
       "        }\n",
       "    }\n",
       "\n",
       "    this.imageObj = new Image();\n",
       "\n",
       "    this.context = undefined;\n",
       "    this.message = undefined;\n",
       "    this.canvas = undefined;\n",
       "    this.rubberband_canvas = undefined;\n",
       "    this.rubberband_context = undefined;\n",
       "    this.format_dropdown = undefined;\n",
       "\n",
       "    this.image_mode = 'full';\n",
       "\n",
       "    this.root = document.createElement('div');\n",
       "    this.root.setAttribute('style', 'display: inline-block');\n",
       "    this._root_extra_style(this.root);\n",
       "\n",
       "    parent_element.appendChild(this.root);\n",
       "\n",
       "    this._init_header(this);\n",
       "    this._init_canvas(this);\n",
       "    this._init_toolbar(this);\n",
       "\n",
       "    var fig = this;\n",
       "\n",
       "    this.waiting = false;\n",
       "\n",
       "    this.ws.onopen = function () {\n",
       "        fig.send_message('supports_binary', { value: fig.supports_binary });\n",
       "        fig.send_message('send_image_mode', {});\n",
       "        if (fig.ratio !== 1) {\n",
       "            fig.send_message('set_device_pixel_ratio', {\n",
       "                device_pixel_ratio: fig.ratio,\n",
       "            });\n",
       "        }\n",
       "        fig.send_message('refresh', {});\n",
       "    };\n",
       "\n",
       "    this.imageObj.onload = function () {\n",
       "        if (fig.image_mode === 'full') {\n",
       "            // Full images could contain transparency (where diff images\n",
       "            // almost always do), so we need to clear the canvas so that\n",
       "            // there is no ghosting.\n",
       "            fig.context.clearRect(0, 0, fig.canvas.width, fig.canvas.height);\n",
       "        }\n",
       "        fig.context.drawImage(fig.imageObj, 0, 0);\n",
       "    };\n",
       "\n",
       "    this.imageObj.onunload = function () {\n",
       "        fig.ws.close();\n",
       "    };\n",
       "\n",
       "    this.ws.onmessage = this._make_on_message_function(this);\n",
       "\n",
       "    this.ondownload = ondownload;\n",
       "};\n",
       "\n",
       "mpl.figure.prototype._init_header = function () {\n",
       "    var titlebar = document.createElement('div');\n",
       "    titlebar.classList =\n",
       "        'ui-dialog-titlebar ui-widget-header ui-corner-all ui-helper-clearfix';\n",
       "    var titletext = document.createElement('div');\n",
       "    titletext.classList = 'ui-dialog-title';\n",
       "    titletext.setAttribute(\n",
       "        'style',\n",
       "        'width: 100%; text-align: center; padding: 3px;'\n",
       "    );\n",
       "    titlebar.appendChild(titletext);\n",
       "    this.root.appendChild(titlebar);\n",
       "    this.header = titletext;\n",
       "};\n",
       "\n",
       "mpl.figure.prototype._canvas_extra_style = function (_canvas_div) {};\n",
       "\n",
       "mpl.figure.prototype._root_extra_style = function (_canvas_div) {};\n",
       "\n",
       "mpl.figure.prototype._init_canvas = function () {\n",
       "    var fig = this;\n",
       "\n",
       "    var canvas_div = (this.canvas_div = document.createElement('div'));\n",
       "    canvas_div.setAttribute('tabindex', '0');\n",
       "    canvas_div.setAttribute(\n",
       "        'style',\n",
       "        'border: 1px solid #ddd;' +\n",
       "            'box-sizing: content-box;' +\n",
       "            'clear: both;' +\n",
       "            'min-height: 1px;' +\n",
       "            'min-width: 1px;' +\n",
       "            'outline: 0;' +\n",
       "            'overflow: hidden;' +\n",
       "            'position: relative;' +\n",
       "            'resize: both;' +\n",
       "            'z-index: 2;'\n",
       "    );\n",
       "\n",
       "    function on_keyboard_event_closure(name) {\n",
       "        return function (event) {\n",
       "            return fig.key_event(event, name);\n",
       "        };\n",
       "    }\n",
       "\n",
       "    canvas_div.addEventListener(\n",
       "        'keydown',\n",
       "        on_keyboard_event_closure('key_press')\n",
       "    );\n",
       "    canvas_div.addEventListener(\n",
       "        'keyup',\n",
       "        on_keyboard_event_closure('key_release')\n",
       "    );\n",
       "\n",
       "    this._canvas_extra_style(canvas_div);\n",
       "    this.root.appendChild(canvas_div);\n",
       "\n",
       "    var canvas = (this.canvas = document.createElement('canvas'));\n",
       "    canvas.classList.add('mpl-canvas');\n",
       "    canvas.setAttribute(\n",
       "        'style',\n",
       "        'box-sizing: content-box;' +\n",
       "            'pointer-events: none;' +\n",
       "            'position: relative;' +\n",
       "            'z-index: 0;'\n",
       "    );\n",
       "\n",
       "    this.context = canvas.getContext('2d');\n",
       "\n",
       "    var backingStore =\n",
       "        this.context.backingStorePixelRatio ||\n",
       "        this.context.webkitBackingStorePixelRatio ||\n",
       "        this.context.mozBackingStorePixelRatio ||\n",
       "        this.context.msBackingStorePixelRatio ||\n",
       "        this.context.oBackingStorePixelRatio ||\n",
       "        this.context.backingStorePixelRatio ||\n",
       "        1;\n",
       "\n",
       "    this.ratio = (window.devicePixelRatio || 1) / backingStore;\n",
       "\n",
       "    var rubberband_canvas = (this.rubberband_canvas = document.createElement(\n",
       "        'canvas'\n",
       "    ));\n",
       "    rubberband_canvas.setAttribute(\n",
       "        'style',\n",
       "        'box-sizing: content-box;' +\n",
       "            'left: 0;' +\n",
       "            'pointer-events: none;' +\n",
       "            'position: absolute;' +\n",
       "            'top: 0;' +\n",
       "            'z-index: 1;'\n",
       "    );\n",
       "\n",
       "    // Apply a ponyfill if ResizeObserver is not implemented by browser.\n",
       "    if (this.ResizeObserver === undefined) {\n",
       "        if (window.ResizeObserver !== undefined) {\n",
       "            this.ResizeObserver = window.ResizeObserver;\n",
       "        } else {\n",
       "            var obs = _JSXTOOLS_RESIZE_OBSERVER({});\n",
       "            this.ResizeObserver = obs.ResizeObserver;\n",
       "        }\n",
       "    }\n",
       "\n",
       "    this.resizeObserverInstance = new this.ResizeObserver(function (entries) {\n",
       "        var nentries = entries.length;\n",
       "        for (var i = 0; i < nentries; i++) {\n",
       "            var entry = entries[i];\n",
       "            var width, height;\n",
       "            if (entry.contentBoxSize) {\n",
       "                if (entry.contentBoxSize instanceof Array) {\n",
       "                    // Chrome 84 implements new version of spec.\n",
       "                    width = entry.contentBoxSize[0].inlineSize;\n",
       "                    height = entry.contentBoxSize[0].blockSize;\n",
       "                } else {\n",
       "                    // Firefox implements old version of spec.\n",
       "                    width = entry.contentBoxSize.inlineSize;\n",
       "                    height = entry.contentBoxSize.blockSize;\n",
       "                }\n",
       "            } else {\n",
       "                // Chrome <84 implements even older version of spec.\n",
       "                width = entry.contentRect.width;\n",
       "                height = entry.contentRect.height;\n",
       "            }\n",
       "\n",
       "            // Keep the size of the canvas and rubber band canvas in sync with\n",
       "            // the canvas container.\n",
       "            if (entry.devicePixelContentBoxSize) {\n",
       "                // Chrome 84 implements new version of spec.\n",
       "                canvas.setAttribute(\n",
       "                    'width',\n",
       "                    entry.devicePixelContentBoxSize[0].inlineSize\n",
       "                );\n",
       "                canvas.setAttribute(\n",
       "                    'height',\n",
       "                    entry.devicePixelContentBoxSize[0].blockSize\n",
       "                );\n",
       "            } else {\n",
       "                canvas.setAttribute('width', width * fig.ratio);\n",
       "                canvas.setAttribute('height', height * fig.ratio);\n",
       "            }\n",
       "            /* This rescales the canvas back to display pixels, so that it\n",
       "             * appears correct on HiDPI screens. */\n",
       "            canvas.style.width = width + 'px';\n",
       "            canvas.style.height = height + 'px';\n",
       "\n",
       "            rubberband_canvas.setAttribute('width', width);\n",
       "            rubberband_canvas.setAttribute('height', height);\n",
       "\n",
       "            // And update the size in Python. We ignore the initial 0/0 size\n",
       "            // that occurs as the element is placed into the DOM, which should\n",
       "            // otherwise not happen due to the minimum size styling.\n",
       "            if (fig.ws.readyState == 1 && width != 0 && height != 0) {\n",
       "                fig.request_resize(width, height);\n",
       "            }\n",
       "        }\n",
       "    });\n",
       "    this.resizeObserverInstance.observe(canvas_div);\n",
       "\n",
       "    function on_mouse_event_closure(name) {\n",
       "        /* User Agent sniffing is bad, but WebKit is busted:\n",
       "         * https://bugs.webkit.org/show_bug.cgi?id=144526\n",
       "         * https://bugs.webkit.org/show_bug.cgi?id=181818\n",
       "         * The worst that happens here is that they get an extra browser\n",
       "         * selection when dragging, if this check fails to catch them.\n",
       "         */\n",
       "        var UA = navigator.userAgent;\n",
       "        var isWebKit = /AppleWebKit/.test(UA) && !/Chrome/.test(UA);\n",
       "        if(isWebKit) {\n",
       "            return function (event) {\n",
       "                /* This prevents the web browser from automatically changing to\n",
       "                 * the text insertion cursor when the button is pressed. We\n",
       "                 * want to control all of the cursor setting manually through\n",
       "                 * the 'cursor' event from matplotlib */\n",
       "                event.preventDefault()\n",
       "                return fig.mouse_event(event, name);\n",
       "            };\n",
       "        } else {\n",
       "            return function (event) {\n",
       "                return fig.mouse_event(event, name);\n",
       "            };\n",
       "        }\n",
       "    }\n",
       "\n",
       "    canvas_div.addEventListener(\n",
       "        'mousedown',\n",
       "        on_mouse_event_closure('button_press')\n",
       "    );\n",
       "    canvas_div.addEventListener(\n",
       "        'mouseup',\n",
       "        on_mouse_event_closure('button_release')\n",
       "    );\n",
       "    canvas_div.addEventListener(\n",
       "        'dblclick',\n",
       "        on_mouse_event_closure('dblclick')\n",
       "    );\n",
       "    // Throttle sequential mouse events to 1 every 20ms.\n",
       "    canvas_div.addEventListener(\n",
       "        'mousemove',\n",
       "        on_mouse_event_closure('motion_notify')\n",
       "    );\n",
       "\n",
       "    canvas_div.addEventListener(\n",
       "        'mouseenter',\n",
       "        on_mouse_event_closure('figure_enter')\n",
       "    );\n",
       "    canvas_div.addEventListener(\n",
       "        'mouseleave',\n",
       "        on_mouse_event_closure('figure_leave')\n",
       "    );\n",
       "\n",
       "    canvas_div.addEventListener('wheel', function (event) {\n",
       "        if (event.deltaY < 0) {\n",
       "            event.step = 1;\n",
       "        } else {\n",
       "            event.step = -1;\n",
       "        }\n",
       "        on_mouse_event_closure('scroll')(event);\n",
       "    });\n",
       "\n",
       "    canvas_div.appendChild(canvas);\n",
       "    canvas_div.appendChild(rubberband_canvas);\n",
       "\n",
       "    this.rubberband_context = rubberband_canvas.getContext('2d');\n",
       "    this.rubberband_context.strokeStyle = '#000000';\n",
       "\n",
       "    this._resize_canvas = function (width, height, forward) {\n",
       "        if (forward) {\n",
       "            canvas_div.style.width = width + 'px';\n",
       "            canvas_div.style.height = height + 'px';\n",
       "        }\n",
       "    };\n",
       "\n",
       "    // Disable right mouse context menu.\n",
       "    canvas_div.addEventListener('contextmenu', function (_e) {\n",
       "        event.preventDefault();\n",
       "        return false;\n",
       "    });\n",
       "\n",
       "    function set_focus() {\n",
       "        canvas.focus();\n",
       "        canvas_div.focus();\n",
       "    }\n",
       "\n",
       "    window.setTimeout(set_focus, 100);\n",
       "};\n",
       "\n",
       "mpl.figure.prototype._init_toolbar = function () {\n",
       "    var fig = this;\n",
       "\n",
       "    var toolbar = document.createElement('div');\n",
       "    toolbar.classList = 'mpl-toolbar';\n",
       "    this.root.appendChild(toolbar);\n",
       "\n",
       "    function on_click_closure(name) {\n",
       "        return function (_event) {\n",
       "            return fig.toolbar_button_onclick(name);\n",
       "        };\n",
       "    }\n",
       "\n",
       "    function on_mouseover_closure(tooltip) {\n",
       "        return function (event) {\n",
       "            if (!event.currentTarget.disabled) {\n",
       "                return fig.toolbar_button_onmouseover(tooltip);\n",
       "            }\n",
       "        };\n",
       "    }\n",
       "\n",
       "    fig.buttons = {};\n",
       "    var buttonGroup = document.createElement('div');\n",
       "    buttonGroup.classList = 'mpl-button-group';\n",
       "    for (var toolbar_ind in mpl.toolbar_items) {\n",
       "        var name = mpl.toolbar_items[toolbar_ind][0];\n",
       "        var tooltip = mpl.toolbar_items[toolbar_ind][1];\n",
       "        var image = mpl.toolbar_items[toolbar_ind][2];\n",
       "        var method_name = mpl.toolbar_items[toolbar_ind][3];\n",
       "\n",
       "        if (!name) {\n",
       "            /* Instead of a spacer, we start a new button group. */\n",
       "            if (buttonGroup.hasChildNodes()) {\n",
       "                toolbar.appendChild(buttonGroup);\n",
       "            }\n",
       "            buttonGroup = document.createElement('div');\n",
       "            buttonGroup.classList = 'mpl-button-group';\n",
       "            continue;\n",
       "        }\n",
       "\n",
       "        var button = (fig.buttons[name] = document.createElement('button'));\n",
       "        button.classList = 'mpl-widget';\n",
       "        button.setAttribute('role', 'button');\n",
       "        button.setAttribute('aria-disabled', 'false');\n",
       "        button.addEventListener('click', on_click_closure(method_name));\n",
       "        button.addEventListener('mouseover', on_mouseover_closure(tooltip));\n",
       "\n",
       "        var icon_img = document.createElement('img');\n",
       "        icon_img.src = '_images/' + image + '.png';\n",
       "        icon_img.srcset = '_images/' + image + '_large.png 2x';\n",
       "        icon_img.alt = tooltip;\n",
       "        button.appendChild(icon_img);\n",
       "\n",
       "        buttonGroup.appendChild(button);\n",
       "    }\n",
       "\n",
       "    if (buttonGroup.hasChildNodes()) {\n",
       "        toolbar.appendChild(buttonGroup);\n",
       "    }\n",
       "\n",
       "    var fmt_picker = document.createElement('select');\n",
       "    fmt_picker.classList = 'mpl-widget';\n",
       "    toolbar.appendChild(fmt_picker);\n",
       "    this.format_dropdown = fmt_picker;\n",
       "\n",
       "    for (var ind in mpl.extensions) {\n",
       "        var fmt = mpl.extensions[ind];\n",
       "        var option = document.createElement('option');\n",
       "        option.selected = fmt === mpl.default_extension;\n",
       "        option.innerHTML = fmt;\n",
       "        fmt_picker.appendChild(option);\n",
       "    }\n",
       "\n",
       "    var status_bar = document.createElement('span');\n",
       "    status_bar.classList = 'mpl-message';\n",
       "    toolbar.appendChild(status_bar);\n",
       "    this.message = status_bar;\n",
       "};\n",
       "\n",
       "mpl.figure.prototype.request_resize = function (x_pixels, y_pixels) {\n",
       "    // Request matplotlib to resize the figure. Matplotlib will then trigger a resize in the client,\n",
       "    // which will in turn request a refresh of the image.\n",
       "    this.send_message('resize', { width: x_pixels, height: y_pixels });\n",
       "};\n",
       "\n",
       "mpl.figure.prototype.send_message = function (type, properties) {\n",
       "    properties['type'] = type;\n",
       "    properties['figure_id'] = this.id;\n",
       "    this.ws.send(JSON.stringify(properties));\n",
       "};\n",
       "\n",
       "mpl.figure.prototype.send_draw_message = function () {\n",
       "    if (!this.waiting) {\n",
       "        this.waiting = true;\n",
       "        this.ws.send(JSON.stringify({ type: 'draw', figure_id: this.id }));\n",
       "    }\n",
       "};\n",
       "\n",
       "mpl.figure.prototype.handle_save = function (fig, _msg) {\n",
       "    var format_dropdown = fig.format_dropdown;\n",
       "    var format = format_dropdown.options[format_dropdown.selectedIndex].value;\n",
       "    fig.ondownload(fig, format);\n",
       "};\n",
       "\n",
       "mpl.figure.prototype.handle_resize = function (fig, msg) {\n",
       "    var size = msg['size'];\n",
       "    if (size[0] !== fig.canvas.width || size[1] !== fig.canvas.height) {\n",
       "        fig._resize_canvas(size[0], size[1], msg['forward']);\n",
       "        fig.send_message('refresh', {});\n",
       "    }\n",
       "};\n",
       "\n",
       "mpl.figure.prototype.handle_rubberband = function (fig, msg) {\n",
       "    var x0 = msg['x0'] / fig.ratio;\n",
       "    var y0 = (fig.canvas.height - msg['y0']) / fig.ratio;\n",
       "    var x1 = msg['x1'] / fig.ratio;\n",
       "    var y1 = (fig.canvas.height - msg['y1']) / fig.ratio;\n",
       "    x0 = Math.floor(x0) + 0.5;\n",
       "    y0 = Math.floor(y0) + 0.5;\n",
       "    x1 = Math.floor(x1) + 0.5;\n",
       "    y1 = Math.floor(y1) + 0.5;\n",
       "    var min_x = Math.min(x0, x1);\n",
       "    var min_y = Math.min(y0, y1);\n",
       "    var width = Math.abs(x1 - x0);\n",
       "    var height = Math.abs(y1 - y0);\n",
       "\n",
       "    fig.rubberband_context.clearRect(\n",
       "        0,\n",
       "        0,\n",
       "        fig.canvas.width / fig.ratio,\n",
       "        fig.canvas.height / fig.ratio\n",
       "    );\n",
       "\n",
       "    fig.rubberband_context.strokeRect(min_x, min_y, width, height);\n",
       "};\n",
       "\n",
       "mpl.figure.prototype.handle_figure_label = function (fig, msg) {\n",
       "    // Updates the figure title.\n",
       "    fig.header.textContent = msg['label'];\n",
       "};\n",
       "\n",
       "mpl.figure.prototype.handle_cursor = function (fig, msg) {\n",
       "    fig.canvas_div.style.cursor = msg['cursor'];\n",
       "};\n",
       "\n",
       "mpl.figure.prototype.handle_message = function (fig, msg) {\n",
       "    fig.message.textContent = msg['message'];\n",
       "};\n",
       "\n",
       "mpl.figure.prototype.handle_draw = function (fig, _msg) {\n",
       "    // Request the server to send over a new figure.\n",
       "    fig.send_draw_message();\n",
       "};\n",
       "\n",
       "mpl.figure.prototype.handle_image_mode = function (fig, msg) {\n",
       "    fig.image_mode = msg['mode'];\n",
       "};\n",
       "\n",
       "mpl.figure.prototype.handle_history_buttons = function (fig, msg) {\n",
       "    for (var key in msg) {\n",
       "        if (!(key in fig.buttons)) {\n",
       "            continue;\n",
       "        }\n",
       "        fig.buttons[key].disabled = !msg[key];\n",
       "        fig.buttons[key].setAttribute('aria-disabled', !msg[key]);\n",
       "    }\n",
       "};\n",
       "\n",
       "mpl.figure.prototype.handle_navigate_mode = function (fig, msg) {\n",
       "    if (msg['mode'] === 'PAN') {\n",
       "        fig.buttons['Pan'].classList.add('active');\n",
       "        fig.buttons['Zoom'].classList.remove('active');\n",
       "    } else if (msg['mode'] === 'ZOOM') {\n",
       "        fig.buttons['Pan'].classList.remove('active');\n",
       "        fig.buttons['Zoom'].classList.add('active');\n",
       "    } else {\n",
       "        fig.buttons['Pan'].classList.remove('active');\n",
       "        fig.buttons['Zoom'].classList.remove('active');\n",
       "    }\n",
       "};\n",
       "\n",
       "mpl.figure.prototype.updated_canvas_event = function () {\n",
       "    // Called whenever the canvas gets updated.\n",
       "    this.send_message('ack', {});\n",
       "};\n",
       "\n",
       "// A function to construct a web socket function for onmessage handling.\n",
       "// Called in the figure constructor.\n",
       "mpl.figure.prototype._make_on_message_function = function (fig) {\n",
       "    return function socket_on_message(evt) {\n",
       "        if (evt.data instanceof Blob) {\n",
       "            var img = evt.data;\n",
       "            if (img.type !== 'image/png') {\n",
       "                /* FIXME: We get \"Resource interpreted as Image but\n",
       "                 * transferred with MIME type text/plain:\" errors on\n",
       "                 * Chrome.  But how to set the MIME type?  It doesn't seem\n",
       "                 * to be part of the websocket stream */\n",
       "                img.type = 'image/png';\n",
       "            }\n",
       "\n",
       "            /* Free the memory for the previous frames */\n",
       "            if (fig.imageObj.src) {\n",
       "                (window.URL || window.webkitURL).revokeObjectURL(\n",
       "                    fig.imageObj.src\n",
       "                );\n",
       "            }\n",
       "\n",
       "            fig.imageObj.src = (window.URL || window.webkitURL).createObjectURL(\n",
       "                img\n",
       "            );\n",
       "            fig.updated_canvas_event();\n",
       "            fig.waiting = false;\n",
       "            return;\n",
       "        } else if (\n",
       "            typeof evt.data === 'string' &&\n",
       "            evt.data.slice(0, 21) === 'data:image/png;base64'\n",
       "        ) {\n",
       "            fig.imageObj.src = evt.data;\n",
       "            fig.updated_canvas_event();\n",
       "            fig.waiting = false;\n",
       "            return;\n",
       "        }\n",
       "\n",
       "        var msg = JSON.parse(evt.data);\n",
       "        var msg_type = msg['type'];\n",
       "\n",
       "        // Call the  \"handle_{type}\" callback, which takes\n",
       "        // the figure and JSON message as its only arguments.\n",
       "        try {\n",
       "            var callback = fig['handle_' + msg_type];\n",
       "        } catch (e) {\n",
       "            console.log(\n",
       "                \"No handler for the '\" + msg_type + \"' message type: \",\n",
       "                msg\n",
       "            );\n",
       "            return;\n",
       "        }\n",
       "\n",
       "        if (callback) {\n",
       "            try {\n",
       "                // console.log(\"Handling '\" + msg_type + \"' message: \", msg);\n",
       "                callback(fig, msg);\n",
       "            } catch (e) {\n",
       "                console.log(\n",
       "                    \"Exception inside the 'handler_\" + msg_type + \"' callback:\",\n",
       "                    e,\n",
       "                    e.stack,\n",
       "                    msg\n",
       "                );\n",
       "            }\n",
       "        }\n",
       "    };\n",
       "};\n",
       "\n",
       "\n",
       "/*\n",
       " * return a copy of an object with only non-object keys\n",
       " * we need this to avoid circular references\n",
       " * https://stackoverflow.com/a/24161582/3208463\n",
       " */\n",
       "function simpleKeys(original) {\n",
       "    return Object.keys(original).reduce(function (obj, key) {\n",
       "        if (typeof original[key] !== 'object') {\n",
       "            obj[key] = original[key];\n",
       "        }\n",
       "        return obj;\n",
       "    }, {});\n",
       "}\n",
       "\n",
       "mpl.figure.prototype.mouse_event = function (event, name) {\n",
       "    if (name === 'button_press') {\n",
       "        this.canvas.focus();\n",
       "        this.canvas_div.focus();\n",
       "    }\n",
       "\n",
       "    // from https://stackoverflow.com/q/1114465\n",
       "    var boundingRect = this.canvas.getBoundingClientRect();\n",
       "    var x = (event.clientX - boundingRect.left) * this.ratio;\n",
       "    var y = (event.clientY - boundingRect.top) * this.ratio;\n",
       "\n",
       "    this.send_message(name, {\n",
       "        x: x,\n",
       "        y: y,\n",
       "        button: event.button,\n",
       "        step: event.step,\n",
       "        guiEvent: simpleKeys(event),\n",
       "    });\n",
       "\n",
       "    return false;\n",
       "};\n",
       "\n",
       "mpl.figure.prototype._key_event_extra = function (_event, _name) {\n",
       "    // Handle any extra behaviour associated with a key event\n",
       "};\n",
       "\n",
       "mpl.figure.prototype.key_event = function (event, name) {\n",
       "    // Prevent repeat events\n",
       "    if (name === 'key_press') {\n",
       "        if (event.key === this._key) {\n",
       "            return;\n",
       "        } else {\n",
       "            this._key = event.key;\n",
       "        }\n",
       "    }\n",
       "    if (name === 'key_release') {\n",
       "        this._key = null;\n",
       "    }\n",
       "\n",
       "    var value = '';\n",
       "    if (event.ctrlKey && event.key !== 'Control') {\n",
       "        value += 'ctrl+';\n",
       "    }\n",
       "    else if (event.altKey && event.key !== 'Alt') {\n",
       "        value += 'alt+';\n",
       "    }\n",
       "    else if (event.shiftKey && event.key !== 'Shift') {\n",
       "        value += 'shift+';\n",
       "    }\n",
       "\n",
       "    value += 'k' + event.key;\n",
       "\n",
       "    this._key_event_extra(event, name);\n",
       "\n",
       "    this.send_message(name, { key: value, guiEvent: simpleKeys(event) });\n",
       "    return false;\n",
       "};\n",
       "\n",
       "mpl.figure.prototype.toolbar_button_onclick = function (name) {\n",
       "    if (name === 'download') {\n",
       "        this.handle_save(this, null);\n",
       "    } else {\n",
       "        this.send_message('toolbar_button', { name: name });\n",
       "    }\n",
       "};\n",
       "\n",
       "mpl.figure.prototype.toolbar_button_onmouseover = function (tooltip) {\n",
       "    this.message.textContent = tooltip;\n",
       "};\n",
       "\n",
       "///////////////// REMAINING CONTENT GENERATED BY embed_js.py /////////////////\n",
       "// prettier-ignore\n",
       "var _JSXTOOLS_RESIZE_OBSERVER=function(A){var t,i=new WeakMap,n=new WeakMap,a=new WeakMap,r=new WeakMap,o=new Set;function s(e){if(!(this instanceof s))throw new TypeError(\"Constructor requires 'new' operator\");i.set(this,e)}function h(){throw new TypeError(\"Function is not a constructor\")}function c(e,t,i,n){e=0 in arguments?Number(arguments[0]):0,t=1 in arguments?Number(arguments[1]):0,i=2 in arguments?Number(arguments[2]):0,n=3 in arguments?Number(arguments[3]):0,this.right=(this.x=this.left=e)+(this.width=i),this.bottom=(this.y=this.top=t)+(this.height=n),Object.freeze(this)}function d(){t=requestAnimationFrame(d);var s=new WeakMap,p=new Set;o.forEach((function(t){r.get(t).forEach((function(i){var r=t instanceof window.SVGElement,o=a.get(t),d=r?0:parseFloat(o.paddingTop),f=r?0:parseFloat(o.paddingRight),l=r?0:parseFloat(o.paddingBottom),u=r?0:parseFloat(o.paddingLeft),g=r?0:parseFloat(o.borderTopWidth),m=r?0:parseFloat(o.borderRightWidth),w=r?0:parseFloat(o.borderBottomWidth),b=u+f,F=d+l,v=(r?0:parseFloat(o.borderLeftWidth))+m,W=g+w,y=r?0:t.offsetHeight-W-t.clientHeight,E=r?0:t.offsetWidth-v-t.clientWidth,R=b+v,z=F+W,M=r?t.width:parseFloat(o.width)-R-E,O=r?t.height:parseFloat(o.height)-z-y;if(n.has(t)){var k=n.get(t);if(k[0]===M&&k[1]===O)return}n.set(t,[M,O]);var S=Object.create(h.prototype);S.target=t,S.contentRect=new c(u,d,M,O),s.has(i)||(s.set(i,[]),p.add(i)),s.get(i).push(S)}))})),p.forEach((function(e){i.get(e).call(e,s.get(e),e)}))}return s.prototype.observe=function(i){if(i instanceof window.Element){r.has(i)||(r.set(i,new Set),o.add(i),a.set(i,window.getComputedStyle(i)));var n=r.get(i);n.has(this)||n.add(this),cancelAnimationFrame(t),t=requestAnimationFrame(d)}},s.prototype.unobserve=function(i){if(i instanceof window.Element&&r.has(i)){var n=r.get(i);n.has(this)&&(n.delete(this),n.size||(r.delete(i),o.delete(i))),n.size||r.delete(i),o.size||cancelAnimationFrame(t)}},A.DOMRectReadOnly=c,A.ResizeObserver=s,A.ResizeObserverEntry=h,A}; // eslint-disable-line\n",
       "mpl.toolbar_items = [[\"Home\", \"Reset original view\", \"fa fa-home\", \"home\"], [\"Back\", \"Back to previous view\", \"fa fa-arrow-left\", \"back\"], [\"Forward\", \"Forward to next view\", \"fa fa-arrow-right\", \"forward\"], [\"\", \"\", \"\", \"\"], [\"Pan\", \"Left button pans, Right button zooms\\nx/y fixes axis, CTRL fixes aspect\", \"fa fa-arrows\", \"pan\"], [\"Zoom\", \"Zoom to rectangle\\nx/y fixes axis\", \"fa fa-square-o\", \"zoom\"], [\"\", \"\", \"\", \"\"], [\"Download\", \"Download plot\", \"fa fa-floppy-o\", \"download\"]];\n",
       "\n",
       "mpl.extensions = [\"eps\", \"jpeg\", \"pgf\", \"pdf\", \"png\", \"ps\", \"raw\", \"svg\", \"tif\", \"webp\"];\n",
       "\n",
       "mpl.default_extension = \"png\";/* global mpl */\n",
       "\n",
       "var comm_websocket_adapter = function (comm) {\n",
       "    // Create a \"websocket\"-like object which calls the given IPython comm\n",
       "    // object with the appropriate methods. Currently this is a non binary\n",
       "    // socket, so there is still some room for performance tuning.\n",
       "    var ws = {};\n",
       "\n",
       "    ws.binaryType = comm.kernel.ws.binaryType;\n",
       "    ws.readyState = comm.kernel.ws.readyState;\n",
       "    function updateReadyState(_event) {\n",
       "        if (comm.kernel.ws) {\n",
       "            ws.readyState = comm.kernel.ws.readyState;\n",
       "        } else {\n",
       "            ws.readyState = 3; // Closed state.\n",
       "        }\n",
       "    }\n",
       "    comm.kernel.ws.addEventListener('open', updateReadyState);\n",
       "    comm.kernel.ws.addEventListener('close', updateReadyState);\n",
       "    comm.kernel.ws.addEventListener('error', updateReadyState);\n",
       "\n",
       "    ws.close = function () {\n",
       "        comm.close();\n",
       "    };\n",
       "    ws.send = function (m) {\n",
       "        //console.log('sending', m);\n",
       "        comm.send(m);\n",
       "    };\n",
       "    // Register the callback with on_msg.\n",
       "    comm.on_msg(function (msg) {\n",
       "        //console.log('receiving', msg['content']['data'], msg);\n",
       "        var data = msg['content']['data'];\n",
       "        if (data['blob'] !== undefined) {\n",
       "            data = {\n",
       "                data: new Blob(msg['buffers'], { type: data['blob'] }),\n",
       "            };\n",
       "        }\n",
       "        // Pass the mpl event to the overridden (by mpl) onmessage function.\n",
       "        ws.onmessage(data);\n",
       "    });\n",
       "    return ws;\n",
       "};\n",
       "\n",
       "mpl.mpl_figure_comm = function (comm, msg) {\n",
       "    // This is the function which gets called when the mpl process\n",
       "    // starts-up an IPython Comm through the \"matplotlib\" channel.\n",
       "\n",
       "    var id = msg.content.data.id;\n",
       "    // Get hold of the div created by the display call when the Comm\n",
       "    // socket was opened in Python.\n",
       "    var element = document.getElementById(id);\n",
       "    var ws_proxy = comm_websocket_adapter(comm);\n",
       "\n",
       "    function ondownload(figure, _format) {\n",
       "        window.open(figure.canvas.toDataURL());\n",
       "    }\n",
       "\n",
       "    var fig = new mpl.figure(id, ws_proxy, ondownload, element);\n",
       "\n",
       "    // Call onopen now - mpl needs it, as it is assuming we've passed it a real\n",
       "    // web socket which is closed, not our websocket->open comm proxy.\n",
       "    ws_proxy.onopen();\n",
       "\n",
       "    fig.parent_element = element;\n",
       "    fig.cell_info = mpl.find_output_cell(\"<div id='\" + id + \"'></div>\");\n",
       "    if (!fig.cell_info) {\n",
       "        console.error('Failed to find cell for figure', id, fig);\n",
       "        return;\n",
       "    }\n",
       "    fig.cell_info[0].output_area.element.on(\n",
       "        'cleared',\n",
       "        { fig: fig },\n",
       "        fig._remove_fig_handler\n",
       "    );\n",
       "};\n",
       "\n",
       "mpl.figure.prototype.handle_close = function (fig, msg) {\n",
       "    var width = fig.canvas.width / fig.ratio;\n",
       "    fig.cell_info[0].output_area.element.off(\n",
       "        'cleared',\n",
       "        fig._remove_fig_handler\n",
       "    );\n",
       "    fig.resizeObserverInstance.unobserve(fig.canvas_div);\n",
       "\n",
       "    // Update the output cell to use the data from the current canvas.\n",
       "    fig.push_to_output();\n",
       "    var dataURL = fig.canvas.toDataURL();\n",
       "    // Re-enable the keyboard manager in IPython - without this line, in FF,\n",
       "    // the notebook keyboard shortcuts fail.\n",
       "    IPython.keyboard_manager.enable();\n",
       "    fig.parent_element.innerHTML =\n",
       "        '<img src=\"' + dataURL + '\" width=\"' + width + '\">';\n",
       "    fig.close_ws(fig, msg);\n",
       "};\n",
       "\n",
       "mpl.figure.prototype.close_ws = function (fig, msg) {\n",
       "    fig.send_message('closing', msg);\n",
       "    // fig.ws.close()\n",
       "};\n",
       "\n",
       "mpl.figure.prototype.push_to_output = function (_remove_interactive) {\n",
       "    // Turn the data on the canvas into data in the output cell.\n",
       "    var width = this.canvas.width / this.ratio;\n",
       "    var dataURL = this.canvas.toDataURL();\n",
       "    this.cell_info[1]['text/html'] =\n",
       "        '<img src=\"' + dataURL + '\" width=\"' + width + '\">';\n",
       "};\n",
       "\n",
       "mpl.figure.prototype.updated_canvas_event = function () {\n",
       "    // Tell IPython that the notebook contents must change.\n",
       "    IPython.notebook.set_dirty(true);\n",
       "    this.send_message('ack', {});\n",
       "    var fig = this;\n",
       "    // Wait a second, then push the new image to the DOM so\n",
       "    // that it is saved nicely (might be nice to debounce this).\n",
       "    setTimeout(function () {\n",
       "        fig.push_to_output();\n",
       "    }, 1000);\n",
       "};\n",
       "\n",
       "mpl.figure.prototype._init_toolbar = function () {\n",
       "    var fig = this;\n",
       "\n",
       "    var toolbar = document.createElement('div');\n",
       "    toolbar.classList = 'btn-toolbar';\n",
       "    this.root.appendChild(toolbar);\n",
       "\n",
       "    function on_click_closure(name) {\n",
       "        return function (_event) {\n",
       "            return fig.toolbar_button_onclick(name);\n",
       "        };\n",
       "    }\n",
       "\n",
       "    function on_mouseover_closure(tooltip) {\n",
       "        return function (event) {\n",
       "            if (!event.currentTarget.disabled) {\n",
       "                return fig.toolbar_button_onmouseover(tooltip);\n",
       "            }\n",
       "        };\n",
       "    }\n",
       "\n",
       "    fig.buttons = {};\n",
       "    var buttonGroup = document.createElement('div');\n",
       "    buttonGroup.classList = 'btn-group';\n",
       "    var button;\n",
       "    for (var toolbar_ind in mpl.toolbar_items) {\n",
       "        var name = mpl.toolbar_items[toolbar_ind][0];\n",
       "        var tooltip = mpl.toolbar_items[toolbar_ind][1];\n",
       "        var image = mpl.toolbar_items[toolbar_ind][2];\n",
       "        var method_name = mpl.toolbar_items[toolbar_ind][3];\n",
       "\n",
       "        if (!name) {\n",
       "            /* Instead of a spacer, we start a new button group. */\n",
       "            if (buttonGroup.hasChildNodes()) {\n",
       "                toolbar.appendChild(buttonGroup);\n",
       "            }\n",
       "            buttonGroup = document.createElement('div');\n",
       "            buttonGroup.classList = 'btn-group';\n",
       "            continue;\n",
       "        }\n",
       "\n",
       "        button = fig.buttons[name] = document.createElement('button');\n",
       "        button.classList = 'btn btn-default';\n",
       "        button.href = '#';\n",
       "        button.title = name;\n",
       "        button.innerHTML = '<i class=\"fa ' + image + ' fa-lg\"></i>';\n",
       "        button.addEventListener('click', on_click_closure(method_name));\n",
       "        button.addEventListener('mouseover', on_mouseover_closure(tooltip));\n",
       "        buttonGroup.appendChild(button);\n",
       "    }\n",
       "\n",
       "    if (buttonGroup.hasChildNodes()) {\n",
       "        toolbar.appendChild(buttonGroup);\n",
       "    }\n",
       "\n",
       "    // Add the status bar.\n",
       "    var status_bar = document.createElement('span');\n",
       "    status_bar.classList = 'mpl-message pull-right';\n",
       "    toolbar.appendChild(status_bar);\n",
       "    this.message = status_bar;\n",
       "\n",
       "    // Add the close button to the window.\n",
       "    var buttongrp = document.createElement('div');\n",
       "    buttongrp.classList = 'btn-group inline pull-right';\n",
       "    button = document.createElement('button');\n",
       "    button.classList = 'btn btn-mini btn-primary';\n",
       "    button.href = '#';\n",
       "    button.title = 'Stop Interaction';\n",
       "    button.innerHTML = '<i class=\"fa fa-power-off icon-remove icon-large\"></i>';\n",
       "    button.addEventListener('click', function (_evt) {\n",
       "        fig.handle_close(fig, {});\n",
       "    });\n",
       "    button.addEventListener(\n",
       "        'mouseover',\n",
       "        on_mouseover_closure('Stop Interaction')\n",
       "    );\n",
       "    buttongrp.appendChild(button);\n",
       "    var titlebar = this.root.querySelector('.ui-dialog-titlebar');\n",
       "    titlebar.insertBefore(buttongrp, titlebar.firstChild);\n",
       "};\n",
       "\n",
       "mpl.figure.prototype._remove_fig_handler = function (event) {\n",
       "    var fig = event.data.fig;\n",
       "    if (event.target !== this) {\n",
       "        // Ignore bubbled events from children.\n",
       "        return;\n",
       "    }\n",
       "    fig.close_ws(fig, {});\n",
       "};\n",
       "\n",
       "mpl.figure.prototype._root_extra_style = function (el) {\n",
       "    el.style.boxSizing = 'content-box'; // override notebook setting of border-box.\n",
       "};\n",
       "\n",
       "mpl.figure.prototype._canvas_extra_style = function (el) {\n",
       "    // this is important to make the div 'focusable\n",
       "    el.setAttribute('tabindex', 0);\n",
       "    // reach out to IPython and tell the keyboard manager to turn it's self\n",
       "    // off when our div gets focus\n",
       "\n",
       "    // location in version 3\n",
       "    if (IPython.notebook.keyboard_manager) {\n",
       "        IPython.notebook.keyboard_manager.register_events(el);\n",
       "    } else {\n",
       "        // location in version 2\n",
       "        IPython.keyboard_manager.register_events(el);\n",
       "    }\n",
       "};\n",
       "\n",
       "mpl.figure.prototype._key_event_extra = function (event, _name) {\n",
       "    // Check for shift+enter\n",
       "    if (event.shiftKey && event.which === 13) {\n",
       "        this.canvas_div.blur();\n",
       "        // select the cell after this one\n",
       "        var index = IPython.notebook.find_cell_index(this.cell_info[0]);\n",
       "        IPython.notebook.select(index + 1);\n",
       "    }\n",
       "};\n",
       "\n",
       "mpl.figure.prototype.handle_save = function (fig, _msg) {\n",
       "    fig.ondownload(fig, null);\n",
       "};\n",
       "\n",
       "mpl.find_output_cell = function (html_output) {\n",
       "    // Return the cell and output element which can be found *uniquely* in the notebook.\n",
       "    // Note - this is a bit hacky, but it is done because the \"notebook_saving.Notebook\"\n",
       "    // IPython event is triggered only after the cells have been serialised, which for\n",
       "    // our purposes (turning an active figure into a static one), is too late.\n",
       "    var cells = IPython.notebook.get_cells();\n",
       "    var ncells = cells.length;\n",
       "    for (var i = 0; i < ncells; i++) {\n",
       "        var cell = cells[i];\n",
       "        if (cell.cell_type === 'code') {\n",
       "            for (var j = 0; j < cell.output_area.outputs.length; j++) {\n",
       "                var data = cell.output_area.outputs[j];\n",
       "                if (data.data) {\n",
       "                    // IPython >= 3 moved mimebundle to data attribute of output\n",
       "                    data = data.data;\n",
       "                }\n",
       "                if (data['text/html'] === html_output) {\n",
       "                    return [cell, data, j];\n",
       "                }\n",
       "            }\n",
       "        }\n",
       "    }\n",
       "};\n",
       "\n",
       "// Register the function which deals with the matplotlib target/channel.\n",
       "// The kernel may be null if the page has been refreshed.\n",
       "if (IPython.notebook.kernel !== null) {\n",
       "    IPython.notebook.kernel.comm_manager.register_target(\n",
       "        'matplotlib',\n",
       "        mpl.mpl_figure_comm\n",
       "    );\n",
       "}\n"
      ],
      "text/plain": [
       "<IPython.core.display.Javascript object>"
      ]
     },
     "metadata": {},
     "output_type": "display_data"
    },
    {
     "data": {
      "text/html": [
       "<img src=\"data:image/png;base64,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\" width=\"639.9999861283738\">"
      ],
      "text/plain": [
       "<IPython.core.display.HTML object>"
      ]
     },
     "metadata": {},
     "output_type": "display_data"
    },
    {
     "data": {
      "text/plain": [
       "(array([2.0788e+05, 1.5304e+04, 7.6160e+03, 4.8800e+03, 3.5840e+03,\n",
       "        2.9600e+03, 2.0080e+03, 1.9120e+03, 1.7120e+03, 1.1600e+03,\n",
       "        1.1280e+03, 9.6000e+02, 1.2320e+03, 6.7200e+02, 6.9600e+02,\n",
       "        5.7600e+02, 5.6800e+02, 6.4800e+02, 5.9200e+02, 3.2000e+02,\n",
       "        4.4000e+02, 4.7200e+02, 4.0800e+02, 4.1600e+02, 2.2400e+02,\n",
       "        2.9600e+02, 3.2000e+02, 2.4800e+02, 1.4400e+02, 8.0000e+01,\n",
       "        1.9200e+02, 1.2800e+02, 9.6000e+01, 5.6000e+01, 8.8000e+01,\n",
       "        3.2000e+01, 1.1200e+02, 6.4000e+01, 6.4000e+01, 8.8000e+01,\n",
       "        9.6000e+01, 7.2000e+01, 7.2000e+01, 7.2000e+01, 5.6000e+01,\n",
       "        4.8000e+01, 4.8000e+01, 0.0000e+00, 1.0400e+02, 1.6000e+01,\n",
       "        4.8000e+01, 6.4000e+01, 2.4000e+01, 5.6000e+01, 3.2000e+01,\n",
       "        3.2000e+01, 4.8000e+01, 5.6000e+01, 4.0000e+01, 2.4000e+01,\n",
       "        1.6000e+01, 4.8000e+01, 1.6000e+01, 3.2000e+01, 3.2000e+01,\n",
       "        0.0000e+00, 3.2000e+01, 4.0000e+01, 2.4000e+01, 4.0000e+01,\n",
       "        1.6000e+01, 1.6000e+01, 6.4000e+01, 0.0000e+00, 1.6000e+01,\n",
       "        8.0000e+00, 1.6000e+01, 1.6000e+01, 2.4000e+01, 1.6000e+01,\n",
       "        0.0000e+00, 3.2000e+01, 3.2000e+01, 0.0000e+00, 8.0000e+00,\n",
       "        1.6000e+01, 3.2000e+01, 0.0000e+00, 1.6000e+01, 8.0000e+00,\n",
       "        0.0000e+00, 1.6000e+01, 3.2000e+01, 0.0000e+00, 8.0000e+00,\n",
       "        0.0000e+00, 8.0000e+00, 0.0000e+00, 1.6000e+01, 6.4000e+01]),\n",
       " array([0.        , 0.01      , 0.02      , 0.03      , 0.04      ,\n",
       "        0.05      , 0.06      , 0.07      , 0.08      , 0.09      ,\n",
       "        0.1       , 0.11      , 0.12      , 0.13      , 0.14      ,\n",
       "        0.15000001, 0.16      , 0.17      , 0.18000001, 0.19      ,\n",
       "        0.2       , 0.20999999, 0.22      , 0.23      , 0.23999999,\n",
       "        0.25      , 0.25999999, 0.27000001, 0.28      , 0.28999999,\n",
       "        0.30000001, 0.31      , 0.31999999, 0.33000001, 0.34      ,\n",
       "        0.34999999, 0.36000001, 0.37      , 0.38      , 0.38999999,\n",
       "        0.40000001, 0.41      , 0.41999999, 0.43000001, 0.44      ,\n",
       "        0.44999999, 0.46000001, 0.47      , 0.47999999, 0.49000001,\n",
       "        0.5       , 0.50999999, 0.51999998, 0.52999997, 0.54000002,\n",
       "        0.55000001, 0.56      , 0.56999999, 0.57999998, 0.58999997,\n",
       "        0.60000002, 0.61000001, 0.62      , 0.63      , 0.63999999,\n",
       "        0.64999998, 0.66000003, 0.67000002, 0.68000001, 0.69      ,\n",
       "        0.69999999, 0.70999998, 0.72000003, 0.73000002, 0.74000001,\n",
       "        0.75      , 0.75999999, 0.76999998, 0.77999997, 0.79000002,\n",
       "        0.80000001, 0.81      , 0.81999999, 0.82999998, 0.83999997,\n",
       "        0.85000002, 0.86000001, 0.87      , 0.88      , 0.88999999,\n",
       "        0.89999998, 0.91000003, 0.92000002, 0.93000001, 0.94      ,\n",
       "        0.94999999, 0.95999998, 0.97000003, 0.98000002, 0.99000001,\n",
       "        1.        ]),\n",
       " <BarContainer object of 100 artists>)"
      ]
     },
     "execution_count": 32,
     "metadata": {},
     "output_type": "execute_result"
    }
   ],
   "source": [
    "%matplotlib notebook\n",
    "import matplotlib.pyplot as plt\n",
    "plt.figure()\n",
    "plt.hist(a.flatten(),100)"
   ]
  },
  {
   "cell_type": "code",
   "execution_count": 33,
   "id": "a14fcb49",
   "metadata": {
    "scrolled": false
   },
   "outputs": [
    {
     "data": {
      "application/vnd.jupyter.widget-view+json": {
       "model_id": "cd826bea0c7346708508ca90db9805e1",
       "version_major": 2,
       "version_minor": 0
      },
      "text/plain": [
       "ViewInteractiveWidget(height=768, layout=Layout(height='auto', width='100%'), width=1024)"
      ]
     },
     "metadata": {},
     "output_type": "display_data"
    }
   ],
   "source": [
    "pl = pv.Plotter()\n",
    "pl.set_background(\"#222222\")\n",
    "\n",
    "outline = data.outline()\n",
    "actor = pl.add_mesh(outline, color=\"#CCCCCC\")\n",
    "\n",
    "lut = pv.LookupTable(\"viridis\")\n",
    "lut.apply_opacity = [0, 0.2]\n",
    "\n",
    "# my_opacity = \"linear\"\n",
    "my_opacity = [0, 0.3]\n",
    "\n",
    "actor = pl.add_volume(data, cmap=\"viridis\", opacity=my_opacity, shade=True)\n",
    "\n",
    "\n",
    "pl.show(cpos=\"xy\")"
   ]
  },
  {
   "cell_type": "code",
   "execution_count": 34,
   "id": "46a3126b",
   "metadata": {
    "scrolled": false
   },
   "outputs": [
    {
     "data": {
      "application/vnd.jupyter.widget-view+json": {
       "model_id": "a65f1541bda44c338b7cf670c4721085",
       "version_major": 2,
       "version_minor": 0
      },
      "text/plain": [
       "ViewInteractiveWidget(height=768, layout=Layout(height='auto', width='100%'), width=1024)"
      ]
     },
     "metadata": {},
     "output_type": "display_data"
    }
   ],
   "source": [
    "pl = pv.Plotter()\n",
    "iso_value = 0.2\n",
    "the_contour = data.contour([iso_value])\n",
    "# the_contour.plot(color=\"green\")\n",
    "\n",
    "pl.add_mesh(the_contour, color=\"green\", opacity=0.5)\n",
    "\n",
    "pl.show()\n"
   ]
  },
  {
   "cell_type": "code",
   "execution_count": 35,
   "id": "9e956686",
   "metadata": {},
   "outputs": [],
   "source": [
    "def show_iso(iso_value):\n",
    "    pl.clear_actors()\n",
    "    the_contour = data.contour([iso_value])\n",
    "    pl.add_mesh(the_contour, color=\"blue\", opacity=0.6)\n",
    "    pl.show()"
   ]
  },
  {
   "cell_type": "code",
   "execution_count": 36,
   "id": "bad71279",
   "metadata": {
    "scrolled": false
   },
   "outputs": [
    {
     "data": {
      "application/vnd.jupyter.widget-view+json": {
       "model_id": "7dbcbc4c03ef442ba0941add54299f06",
       "version_major": 2,
       "version_minor": 0
      },
      "text/plain": [
       "ViewInteractiveWidget(height=768, layout=Layout(height='auto', width='100%'), width=1024)"
      ]
     },
     "metadata": {},
     "output_type": "display_data"
    }
   ],
   "source": [
    "show_iso(0.9)"
   ]
  },
  {
   "cell_type": "code",
   "execution_count": 37,
   "id": "69597bdf",
   "metadata": {
    "scrolled": false
   },
   "outputs": [
    {
     "data": {
      "application/vnd.jupyter.widget-view+json": {
       "model_id": "148202ef34e84b7b960312163a72bdd5",
       "version_major": 2,
       "version_minor": 0
      },
      "text/plain": [
       "ViewInteractiveWidget(height=768, layout=Layout(height='auto', width='100%'), width=1024)"
      ]
     },
     "metadata": {},
     "output_type": "display_data"
    }
   ],
   "source": [
    "pl = pv.Plotter()\n",
    "pl.add_mesh_isovalue(data, opacity=0.8)\n",
    "pl.show()"
   ]
  },
  {
   "cell_type": "code",
   "execution_count": null,
   "id": "123f0cd5",
   "metadata": {},
   "outputs": [],
   "source": []
  }
 ],
 "metadata": {
  "kernelspec": {
   "display_name": "Python 3",
   "language": "python",
   "name": "python3"
  },
  "language_info": {
   "codemirror_mode": {
    "name": "ipython",
    "version": 3
   },
   "file_extension": ".py",
   "mimetype": "text/x-python",
   "name": "python",
   "nbconvert_exporter": "python",
   "pygments_lexer": "ipython3",
   "version": "3.9.15"
  }
 },
 "nbformat": 4,
 "nbformat_minor": 5
}
