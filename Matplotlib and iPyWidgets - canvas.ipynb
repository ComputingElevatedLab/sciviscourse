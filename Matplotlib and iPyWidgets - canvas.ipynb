{
 "cells": [
  {
   "cell_type": "markdown",
   "metadata": {},
   "source": [
    "# Matplotlib and iPyWidgets"
   ]
  },
  {
   "cell_type": "markdown",
   "metadata": {},
   "source": [
    "In this jupyter notebook we will use the following libraries: numpy, matplotlib and ipywidgets.\n",
    "\n",
    "You can install those via *conda* with: `conda install numpy matplotlib ipywidgets`"
   ]
  },
  {
   "cell_type": "code",
   "execution_count": null,
   "metadata": {},
   "outputs": [],
   "source": [
    "# this entry is necessary when using matplotlib in a jupyter notebook\n",
    "%matplotlib notebook \n",
    "\n",
    "import matplotlib.pyplot as plt \n",
    "import numpy as np"
   ]
  },
  {
   "cell_type": "markdown",
   "metadata": {},
   "source": [
    "## Basic plots"
   ]
  },
  {
   "cell_type": "code",
   "execution_count": null,
   "metadata": {},
   "outputs": [],
   "source": [
    "plt.figure()\n",
    "a=[1,2,3]\n",
    "b=[3,2,1]\n",
    "\n",
    "plt.subplot(2,1,1)\n",
    "plt.plot(a)\n",
    "plt.subplot(2,1,2)\n",
    "plt.plot(b)\n"
   ]
  },
  {
   "cell_type": "code",
   "execution_count": null,
   "metadata": {},
   "outputs": [],
   "source": [
    "plt.figure(1)\n",
    "plt.xlabel('input parameter (seconds)')"
   ]
  },
  {
   "cell_type": "code",
   "execution_count": null,
   "metadata": {},
   "outputs": [],
   "source": [
    "# Create a figure as the drawing area. You can have multiple figures in a program.\n",
    "plt.figure()\n",
    "# Plot the data using a plot type of your choice (line graph, bar chart, histogram, pie chart, etc)\n",
    "# use line graph here \n",
    "plt.plot(np.array([4,6,3,10,7]))  "
   ]
  },
  {
   "cell_type": "code",
   "execution_count": null,
   "metadata": {},
   "outputs": [],
   "source": [
    "plt.xlabel('input parameter (seconds)') # label the x axis \n",
    "plt.show()"
   ]
  },
  {
   "cell_type": "code",
   "execution_count": null,
   "metadata": {},
   "outputs": [],
   "source": [
    "plt.savefig('myplot.png')"
   ]
  },
  {
   "cell_type": "code",
   "execution_count": null,
   "metadata": {},
   "outputs": [],
   "source": [
    "# Create a new figure\n",
    "plt.figure()\n",
    "# plot a random uniform distribution (generated with numpy)\n",
    "plt.plot(np.random.uniform(10,15,20))\n",
    "# set the ticks on the x axis with step 1 and max 20\n",
    "plt.xticks(np.arange(1,20))\n",
    "# set the y label\n",
    "plt.ylabel('random')\n",
    "# add a grid to the plot\n",
    "plt.grid()  "
   ]
  },
  {
   "cell_type": "code",
   "execution_count": null,
   "metadata": {
    "scrolled": true
   },
   "outputs": [],
   "source": [
    "## Bar chart\n",
    "plt.figure()\n",
    "\n",
    "# vectors containing the bar chart values\n",
    "x = [1,2,3,4,5] \n",
    "y = [7,2,3,5.5,1]\n",
    "\n",
    "# set ticks labels\n",
    "plt.xticks(x,['b1','b2','b3','b4','b5'],rotation=-60)\n",
    "\n",
    "# plot a bar chart\n",
    "plt.bar(x,y)\n",
    "plt.grid()"
   ]
  },
  {
   "cell_type": "code",
   "execution_count": null,
   "metadata": {},
   "outputs": [],
   "source": [
    "## Pie chart\n",
    "plt.figure()\n",
    "a = np.random.uniform(1,10,7) \n",
    "L = ['b1','b2','b3','b4','b5', 'b6', 'b7'] \n",
    "plt.pie(a, labels = L)\n",
    "plt.title('A pie chart example') "
   ]
  },
  {
   "cell_type": "code",
   "execution_count": null,
   "metadata": {},
   "outputs": [],
   "source": [
    "## Histogram\n",
    "plt.figure()\n",
    "x = np.random.normal(0,0.1,1000) # create a normal distribution \n",
    "plt.hist(x,100)                   # 100 bins  "
   ]
  },
  {
   "cell_type": "code",
   "execution_count": null,
   "metadata": {},
   "outputs": [],
   "source": [
    "## Box plot\n",
    "plt.figure()\n",
    "x = np.arange(100) #np.random.uniform(low=1,high=100,size=50)\n",
    "plt.yticks(range(0,125,25))\n",
    "plt.boxplot(x)\n",
    "plt.show()  "
   ]
  },
  {
   "cell_type": "markdown",
   "metadata": {},
   "source": [
    "## Fetch and plot data"
   ]
  },
  {
   "cell_type": "code",
   "execution_count": null,
   "metadata": {},
   "outputs": [],
   "source": [
    "data = np.loadtxt(fname=\"NOAA-Temperatures.csv\", skiprows=5, delimiter=\",\")"
   ]
  },
  {
   "cell_type": "code",
   "execution_count": null,
   "metadata": {},
   "outputs": [],
   "source": [
    "data[:,0]"
   ]
  },
  {
   "cell_type": "code",
   "execution_count": null,
   "metadata": {},
   "outputs": [],
   "source": [
    "data[:,1]"
   ]
  },
  {
   "cell_type": "code",
   "execution_count": null,
   "metadata": {},
   "outputs": [],
   "source": [
    "data = np.genfromtxt(fname=\"NOAA-Temperatures.csv\", skip_header=4, delimiter=\",\", names=True)"
   ]
  },
  {
   "cell_type": "code",
   "execution_count": null,
   "metadata": {},
   "outputs": [],
   "source": [
    "data"
   ]
  },
  {
   "cell_type": "code",
   "execution_count": null,
   "metadata": {},
   "outputs": [],
   "source": [
    "x=data[\"Year\"]\n",
    "y=data[\"Value\"]"
   ]
  },
  {
   "cell_type": "code",
   "execution_count": null,
   "metadata": {},
   "outputs": [],
   "source": [
    "plt.figure()\n",
    "plt.scatter(x,y)\n",
    "plt.bar(x,y)\n",
    "plt.show()"
   ]
  },
  {
   "cell_type": "code",
   "execution_count": null,
   "metadata": {},
   "outputs": [],
   "source": [
    "data = np.genfromtxt(fname=\"https://raw.githubusercontent.com/fivethirtyeight/data/master/drug-use-by-age/drug-use-by-age.csv\", delimiter=\",\", dtype=None, names=True, encoding=None)\n",
    "data"
   ]
  },
  {
   "cell_type": "code",
   "execution_count": null,
   "metadata": {},
   "outputs": [],
   "source": [
    "age=data[\"age\"]\n",
    "heroinuse=data[\"heroinuse\"]\n",
    "alcoholuse=data[\"alcoholuse\"]\n",
    "marijuanause=data[\"marijuanause\"]\n",
    "oxycontinuse=data[\"oxycontinuse\"]"
   ]
  },
  {
   "cell_type": "code",
   "execution_count": null,
   "metadata": {},
   "outputs": [],
   "source": [
    "alcoholuse"
   ]
  },
  {
   "cell_type": "code",
   "execution_count": null,
   "metadata": {},
   "outputs": [],
   "source": [
    "from math import pi\n",
    "\n",
    "fig = plt.figure()\n",
    "ax1 = plt.subplot(121, polar=True)\n",
    "\n",
    "#plt.axes(projection='polar')\n",
    "\n",
    "ticks = np.linspace(1, 2*pi, len(age))\n",
    "\n",
    "plt.xticks(ticks, age)\n",
    "\n",
    "plt.polar(ticks, heroinuse)\n",
    "plt.fill(ticks, heroinuse, 'y', alpha=0.3)\n",
    "\n",
    "plt.polar(ticks, oxycontinuse)\n",
    "plt.fill(ticks, oxycontinuse, 'p', alpha=0.3)\n",
    "\n",
    "plt.polar(ticks, marijuanause)\n",
    "plt.fill(ticks, marijuanause, 'r', alpha=0.3)\n",
    "\n",
    "plt.polar(ticks, alcoholuse)\n",
    "plt.fill(ticks, alcoholuse, 'b', alpha=0.3)\n",
    "\n",
    "plt.show()"
   ]
  },
  {
   "cell_type": "code",
   "execution_count": null,
   "metadata": {},
   "outputs": [],
   "source": [
    "plt.subplot(122, polar=False)\n",
    "#plt.axes(projection='rectilinear')\n",
    "\n",
    "plt.plot(age, heroinuse)\n",
    "plt.plot(age, oxycontinuse)\n",
    "plt.plot(age, marijuanause)\n",
    "plt.plot(age, alcoholuse)\n"
   ]
  },
  {
   "cell_type": "markdown",
   "metadata": {},
   "source": [
    "## Visualize image data"
   ]
  },
  {
   "cell_type": "code",
   "execution_count": null,
   "metadata": {},
   "outputs": [],
   "source": [
    "# load image data from binary file\n",
    "data = np.fromfile('HeadMRVolume.raw', dtype='uint8')\n",
    "data = data.reshape(42, 62, 48)"
   ]
  },
  {
   "cell_type": "code",
   "execution_count": null,
   "metadata": {},
   "outputs": [],
   "source": [
    "# plot slices\n",
    "plt.figure()\n",
    "plt.imshow(data[20,:,:])\n",
    "plt.gca().invert_yaxis()\n",
    "plt.show()"
   ]
  },
  {
   "cell_type": "code",
   "execution_count": null,
   "metadata": {},
   "outputs": [],
   "source": [
    "# show a slice on the Y axis\n",
    "plt.figure()\n",
    "plt.imshow(data[:,20,:])\n",
    "plt.gca().invert_yaxis()\n",
    "plt.show()"
   ]
  },
  {
   "cell_type": "markdown",
   "metadata": {},
   "source": [
    "### Make visualization more interactive"
   ]
  },
  {
   "cell_type": "code",
   "execution_count": null,
   "metadata": {},
   "outputs": [],
   "source": [
    "def show_slice(axis, slice_num):\n",
    "    if axis == 'x':\n",
    "      plt.imshow(data[slice_num,:,:])\n",
    "    elif axis == 'y':\n",
    "      plt.imshow(data[:,slice_num,:])\n",
    "    elif axis == 'z':\n",
    "      plt.imshow(data[:,:,slice_num])\n",
    "    \n",
    "    plt.show()"
   ]
  },
  {
   "cell_type": "code",
   "execution_count": null,
   "metadata": {},
   "outputs": [],
   "source": [
    "# load image data\n",
    "plt.figure()\n",
    "data = np.fromfile('HeadMRVolume.raw', dtype='uint8')\n",
    "data = data.reshape(42, 62, 48)\n",
    "\n",
    "show_slice('x', 20)"
   ]
  },
  {
   "cell_type": "code",
   "execution_count": null,
   "metadata": {},
   "outputs": [],
   "source": [
    "# import other libraries to use ipython widgets\n",
    "\n",
    "from ipywidgets import interact, interactive, fixed, interact_manual\n",
    "import ipywidgets as widgets"
   ]
  },
  {
   "cell_type": "code",
   "execution_count": null,
   "metadata": {},
   "outputs": [],
   "source": [
    "# create a widget for choosing the axis\n",
    "\n",
    "axis_widget=widgets.Dropdown(\n",
    "    options=['x', 'y', 'z'], value='x', description='Axis:')\n",
    "axis_widget"
   ]
  },
  {
   "cell_type": "code",
   "execution_count": null,
   "metadata": {},
   "outputs": [],
   "source": [
    "# read the value of the widget\n",
    "axis_widget.value"
   ]
  },
  {
   "cell_type": "code",
   "execution_count": null,
   "metadata": {},
   "outputs": [],
   "source": [
    "# create a widget for choosing the slice value\n",
    "\n",
    "slice_widget=widgets.IntSlider(min=0, max=42, step=1, value=20)\n",
    "slice_widget"
   ]
  },
  {
   "cell_type": "code",
   "execution_count": null,
   "metadata": {},
   "outputs": [],
   "source": [
    "# plot figure from file\n",
    "plt.figure()\n",
    "data = np.fromfile('HeadMRVolume.raw', dtype='uint8')\n",
    "data = data.reshape(42, 62, 48)\n",
    "\n",
    "# create interact that calls a function (i.e., show_slice) using inputs from the widgets\n",
    "interact(show_slice, slice_num=slice_widget, axis=axis_widget)"
   ]
  },
  {
   "cell_type": "markdown",
   "metadata": {},
   "source": [
    "## Update slice max on axis change "
   ]
  },
  {
   "cell_type": "code",
   "execution_count": null,
   "metadata": {},
   "outputs": [],
   "source": [
    "# change the max value of the slider depending on the selected axis\n",
    "\n",
    "# axis map\n",
    "am = dict(x=0,y=1,z=2)\n",
    "\n",
    "def update_slice_max(n):\n",
    "    slice_widget.max=data.shape[am[n]]-1\n",
    "\n",
    "def show_slice(axis, slice_num):\n",
    "    update_slice_max(axis)\n",
    "    slice_num = slice_widget.value\n",
    "    \n",
    "    if axis == 'x':\n",
    "      plt.imshow(data[slice_num,:,:])\n",
    "    elif axis == 'y':\n",
    "      plt.imshow(data[:,slice_num,:])\n",
    "    elif axis == 'z':\n",
    "      plt.imshow(data[:,:,slice_num])\n",
    "    \n",
    "    plt.show()"
   ]
  },
  {
   "cell_type": "code",
   "execution_count": null,
   "metadata": {},
   "outputs": [],
   "source": [
    "# try again using the interact\n",
    "plt.figure()\n",
    "data = np.fromfile('HeadMRVolume.raw', dtype='uint8')\n",
    "data = data.reshape(42, 62, 48)\n",
    "interact(show_slice, slice_num=slice_widget, axis=axis_widget)"
   ]
  },
  {
   "cell_type": "code",
   "execution_count": null,
   "metadata": {},
   "outputs": [],
   "source": []
  }
 ],
 "metadata": {
  "kernelspec": {
   "display_name": "Python 3",
   "language": "python",
   "name": "python3"
  },
  "language_info": {
   "codemirror_mode": {
    "name": "ipython",
    "version": 3
   },
   "file_extension": ".py",
   "mimetype": "text/x-python",
   "name": "python",
   "nbconvert_exporter": "python",
   "pygments_lexer": "ipython3",
   "version": "3.8.5"
  }
 },
 "nbformat": 4,
 "nbformat_minor": 2
}
